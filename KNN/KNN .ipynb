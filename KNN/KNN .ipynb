{
 "cells": [
  {
   "cell_type": "code",
   "execution_count": 1,
   "metadata": {},
   "outputs": [],
   "source": [
    "import numpy as np\n",
    "import pandas as pd\n",
    "import matplotlib.pyplot as plt\n",
    "plt.style.use('ggplot')\n",
    "from sklearn.model_selection import train_test_split\n",
    "from sklearn.neighbors import KNeighborsClassifier"
   ]
  },
  {
   "cell_type": "markdown",
   "metadata": {},
   "source": [
    "# Actual Data"
   ]
  },
  {
   "cell_type": "code",
   "execution_count": 2,
   "metadata": {},
   "outputs": [
    {
     "data": {
      "text/html": [
       "<div>\n",
       "<style scoped>\n",
       "    .dataframe tbody tr th:only-of-type {\n",
       "        vertical-align: middle;\n",
       "    }\n",
       "\n",
       "    .dataframe tbody tr th {\n",
       "        vertical-align: top;\n",
       "    }\n",
       "\n",
       "    .dataframe thead th {\n",
       "        text-align: right;\n",
       "    }\n",
       "</style>\n",
       "<table border=\"1\" class=\"dataframe\">\n",
       "  <thead>\n",
       "    <tr style=\"text-align: right;\">\n",
       "      <th></th>\n",
       "      <th>hex0</th>\n",
       "      <th>hex1</th>\n",
       "      <th>hex2</th>\n",
       "      <th>hex3</th>\n",
       "      <th>hex4</th>\n",
       "      <th>hex5</th>\n",
       "      <th>hex6</th>\n",
       "      <th>hex7</th>\n",
       "    </tr>\n",
       "  </thead>\n",
       "  <tbody>\n",
       "    <tr>\n",
       "      <th>0</th>\n",
       "      <td>0</td>\n",
       "      <td>4</td>\n",
       "      <td>0</td>\n",
       "      <td>0</td>\n",
       "      <td>0</td>\n",
       "      <td>0</td>\n",
       "      <td>0</td>\n",
       "      <td>0</td>\n",
       "    </tr>\n",
       "    <tr>\n",
       "      <th>1</th>\n",
       "      <td>5</td>\n",
       "      <td>6</td>\n",
       "      <td>0</td>\n",
       "      <td>7</td>\n",
       "      <td>0</td>\n",
       "      <td>8</td>\n",
       "      <td>0</td>\n",
       "      <td>9</td>\n",
       "    </tr>\n",
       "    <tr>\n",
       "      <th>2</th>\n",
       "      <td>5</td>\n",
       "      <td>10</td>\n",
       "      <td>11</td>\n",
       "      <td>12</td>\n",
       "      <td>11</td>\n",
       "      <td>13</td>\n",
       "      <td>14</td>\n",
       "      <td>15</td>\n",
       "    </tr>\n",
       "    <tr>\n",
       "      <th>3</th>\n",
       "      <td>16</td>\n",
       "      <td>17</td>\n",
       "      <td>16</td>\n",
       "      <td>18</td>\n",
       "      <td>16</td>\n",
       "      <td>18</td>\n",
       "      <td>0</td>\n",
       "      <td>0</td>\n",
       "    </tr>\n",
       "    <tr>\n",
       "      <th>4</th>\n",
       "      <td>19</td>\n",
       "      <td>20</td>\n",
       "      <td>0</td>\n",
       "      <td>0</td>\n",
       "      <td>16</td>\n",
       "      <td>21</td>\n",
       "      <td>0</td>\n",
       "      <td>0</td>\n",
       "    </tr>\n",
       "  </tbody>\n",
       "</table>\n",
       "</div>"
      ],
      "text/plain": [
       "   hex0  hex1  hex2  hex3  hex4  hex5  hex6  hex7\n",
       "0     0     4     0     0     0     0     0     0\n",
       "1     5     6     0     7     0     8     0     9\n",
       "2     5    10    11    12    11    13    14    15\n",
       "3    16    17    16    18    16    18     0     0\n",
       "4    19    20     0     0    16    21     0     0"
      ]
     },
     "execution_count": 2,
     "metadata": {},
     "output_type": "execute_result"
    }
   ],
   "source": [
    "# read input data\n",
    "df = pd.read_csv('INPUT_DATA_ACTUAL.txt')\n",
    "df.columns = [\"hex0\", \"hex1\", \"hex2\", \"hex3\",\"hex4\",\"hex5\",\"hex6\",\"hex7\"]\n",
    "df.head()"
   ]
  },
  {
   "cell_type": "markdown",
   "metadata": {},
   "source": [
    "each row represents a packet  --> observation\n",
    "each column is a hex value  --> feature - 8 features\n",
    "1,2,3,0,0,0,0,0"
   ]
  },
  {
   "cell_type": "code",
   "execution_count": 3,
   "metadata": {},
   "outputs": [
    {
     "name": "stdout",
     "output_type": "stream",
     "text": [
      "       hex0  hex1  hex2  hex3  hex4  hex5  hex6  hex7\n",
      "0         0     4     0     0     0     0     0     0\n",
      "1         5     6     0     7     0     8     0     9\n",
      "2         5    10    11    12    11    13    14    15\n",
      "3        16    17    16    18    16    18     0     0\n",
      "4        19    20     0     0    16    21     0     0\n",
      "5        22     0     0     0     0     0    23    24\n",
      "6        25    26    26    27    28    29    23    30\n",
      "7        31    32    33    34    33    35    31    16\n",
      "8        30    36     0    37     0    38     0     0\n",
      "9        16    39    16    20    16    40    16    41\n",
      "10       36    42    30    43    44    45     0     0\n",
      "11        0     0     0     0     0     0     0    46\n",
      "12        0     0     0     0     0     0     0     0\n",
      "13       22     0     0     0     0     0    23    24\n",
      "14        0     4     0     0     0     0     0     0\n",
      "15       47    48    26    49    28    29    50    30\n",
      "16       51    52    53     0     0     0     0     0\n",
      "17       16    39    16    20    16    40    16    41\n",
      "18       54    55    43    42    56     0     0     0\n",
      "19       16    17    16    18    16    18     0     0\n",
      "20       19    20     0     0    16    21     0     0\n",
      "21       22     0     0     0     0     0    23    24\n",
      "22       57     2     3     0     0     0     0     0\n",
      "23        0     4     0     0     0     0     0     0\n",
      "24        5    10    11     1    11     4    14    15\n",
      "25       58     0     0     0     0     0     0     0\n",
      "26        5    59     0     7     0     8     0     9\n",
      "27       60    61    62    62    15    60    24    63\n",
      "28       47    64    26    42    28    29    46    30\n",
      "29       22     0     0     0     0     0    23    24\n",
      "...     ...   ...   ...   ...   ...   ...   ...   ...\n",
      "15647   129     2     9     0     0     0     0     0\n",
      "15648    30    27    95   193    28   174   249    30\n",
      "15649     5    10    11    13    11   158    14    15\n",
      "15650    58     0     0     0     0     0     0     0\n",
      "15651     0     4     0     0     0     0     0     0\n",
      "15652    50   103     0     7     0     8     0     9\n",
      "15653    16   148    16   194    16   194     0     0\n",
      "15654    69   189     0     0    16     8     0     0\n",
      "15655   164     0     0     0     0     0    60     8\n",
      "15656     0     0   167     0    86   109     0     0\n",
      "15657    16     8    16     8    16     8    16     8\n",
      "15658     0     0    72    28   170     0     0     0\n",
      "15659     0     0     0    62     9     7     0     0\n",
      "15660   168     6    28     0     0     0     0     0\n",
      "15661    30    27    95   193    28   174    14    30\n",
      "15662   164     0     0     0     0     0    60     8\n",
      "15663     0     4     0     0     0     0     0     0\n",
      "15664    31    16    33    59    33    23    31    32\n",
      "15665    30    36     0    37     0   163     0     0\n",
      "15666    16     8    16     8    16     8    16     8\n",
      "15667     0     0     0     0     0     0     0     0\n",
      "15668   129     2     9     0     0     0     0     0\n",
      "15669     0   103     0     0     0     0     0     0\n",
      "15670    16   148    16   194    16   194     0     0\n",
      "15671    69   164     0     0    16     8     0     0\n",
      "15672    30    27    95   193    28   174   131    30\n",
      "15673   164     0     0     0     0     0    60     8\n",
      "15674     5    10    11    88   129   110    14    15\n",
      "15675     0     4     0     0     0     0     0     0\n",
      "15676     0     0     0     0     0     0     0     0\n",
      "\n",
      "[15677 rows x 8 columns]\n"
     ]
    }
   ],
   "source": [
    "print df"
   ]
  },
  {
   "cell_type": "code",
   "execution_count": 4,
   "metadata": {},
   "outputs": [
    {
     "name": "stdout",
     "output_type": "stream",
     "text": [
      "(15677, 8)\n"
     ]
    }
   ],
   "source": [
    "print(df.shape)"
   ]
  },
  {
   "cell_type": "code",
   "execution_count": 5,
   "metadata": {},
   "outputs": [
    {
     "name": "stdout",
     "output_type": "stream",
     "text": [
      "       Classification\n",
      "0                   0\n",
      "1                   0\n",
      "2                   0\n",
      "3                   0\n",
      "4                   0\n",
      "5                   0\n",
      "6                   0\n",
      "7                   0\n",
      "8                   0\n",
      "9                   0\n",
      "10                  0\n",
      "11                  0\n",
      "12                  0\n",
      "13                  0\n",
      "14                  0\n",
      "15                  0\n",
      "16                  0\n",
      "17                  0\n",
      "18                  0\n",
      "19                  0\n",
      "20                  0\n",
      "21                  0\n",
      "22                  0\n",
      "23                  0\n",
      "24                  0\n",
      "25                  0\n",
      "26                  0\n",
      "27                  0\n",
      "28                  0\n",
      "29                  0\n",
      "...               ...\n",
      "15647               2\n",
      "15648               2\n",
      "15649               2\n",
      "15650               2\n",
      "15651               2\n",
      "15652               2\n",
      "15653               2\n",
      "15654               2\n",
      "15655               2\n",
      "15656               2\n",
      "15657               2\n",
      "15658               2\n",
      "15659               2\n",
      "15660               2\n",
      "15661               2\n",
      "15662               2\n",
      "15663               2\n",
      "15664               2\n",
      "15665               2\n",
      "15666               2\n",
      "15667               2\n",
      "15668               2\n",
      "15669               2\n",
      "15670               2\n",
      "15671               2\n",
      "15672               2\n",
      "15673               2\n",
      "15674               2\n",
      "15675               2\n",
      "15676               2\n",
      "\n",
      "[15677 rows x 1 columns]\n"
     ]
    }
   ],
   "source": [
    "# read output data\n",
    "df2 = pd.read_csv('OUTPUT_DATA_ACTUAL.txt')\n",
    "df2.columns = [\"Classification\"]\n",
    "print df2\n",
    "# 0-> Autopark\n",
    "# 1-> Drive\n",
    "# 2-> Idle"
   ]
  },
  {
   "cell_type": "code",
   "execution_count": 6,
   "metadata": {},
   "outputs": [
    {
     "name": "stdout",
     "output_type": "stream",
     "text": [
      "(15677, 1)\n"
     ]
    }
   ],
   "source": [
    "print(df2.shape)"
   ]
  },
  {
   "cell_type": "code",
   "execution_count": 7,
   "metadata": {},
   "outputs": [
    {
     "name": "stdout",
     "output_type": "stream",
     "text": [
      "<class 'pandas.core.frame.DataFrame'>\n",
      "<class 'pandas.core.frame.DataFrame'>\n"
     ]
    }
   ],
   "source": [
    "print type(df)\n",
    "print type(df2)"
   ]
  },
  {
   "cell_type": "code",
   "execution_count": 8,
   "metadata": {},
   "outputs": [
    {
     "name": "stdout",
     "output_type": "stream",
     "text": [
      "\n",
      " Features\n",
      "[[  0   4   0 ...   0   0   0]\n",
      " [  5   6   0 ...   8   0   9]\n",
      " [  5  10  11 ...  13  14  15]\n",
      " ...\n",
      " [  5  10  11 ... 110  14  15]\n",
      " [  0   4   0 ...   0   0   0]\n",
      " [  0   0   0 ...   0   0   0]]\n",
      "\n",
      " Response\n",
      "[[0]\n",
      " [0]\n",
      " [0]\n",
      " ...\n",
      " [2]\n",
      " [2]\n",
      " [2]]\n",
      "\n",
      "\n"
     ]
    }
   ],
   "source": [
    "print(\"\\n Features\")\n",
    "df_np=df.values\n",
    "print df_np\n",
    "print(\"\\n Response\")\n",
    "df2_np=df2.values\n",
    "print df2_np\n",
    "print(\"\\n\")"
   ]
  },
  {
   "cell_type": "code",
   "execution_count": 9,
   "metadata": {},
   "outputs": [],
   "source": [
    "# feature matrix\n",
    "x = df_np\n",
    "# response vector (target) - 0,1,2\n",
    "y = df2_np"
   ]
  },
  {
   "cell_type": "code",
   "execution_count": 10,
   "metadata": {},
   "outputs": [
    {
     "name": "stdout",
     "output_type": "stream",
     "text": [
      "(15677, 8)\n",
      "(15677, 1)\n",
      "-----------------\n",
      "(15677, 8)\n",
      "(15677, 1)\n"
     ]
    }
   ],
   "source": [
    "print(df.shape)\n",
    "print(df2.shape)\n",
    "print(\"-----------------\")\n",
    "print(df_np.shape)\n",
    "print(df2_np.shape)\n",
    "df2_np=np.ravel(y,order='C')"
   ]
  },
  {
   "cell_type": "markdown",
   "metadata": {},
   "source": [
    "# Without Splitting Data"
   ]
  },
  {
   "cell_type": "markdown",
   "metadata": {},
   "source": [
    "## KNN =1"
   ]
  },
  {
   "cell_type": "code",
   "execution_count": 11,
   "metadata": {},
   "outputs": [
    {
     "name": "stdout",
     "output_type": "stream",
     "text": [
      "KNeighborsClassifier(algorithm='auto', leaf_size=30, metric='minkowski',\n",
      "           metric_params=None, n_jobs=1, n_neighbors=1, p=2,\n",
      "           weights='uniform')\n"
     ]
    }
   ],
   "source": [
    "knn = KNeighborsClassifier(n_neighbors=1)\n",
    "print knn"
   ]
  },
  {
   "cell_type": "code",
   "execution_count": 12,
   "metadata": {},
   "outputs": [
    {
     "name": "stdout",
     "output_type": "stream",
     "text": [
      "-----------------\n",
      "[0 0 0 ... 2 2 2]\n"
     ]
    },
    {
     "data": {
      "text/plain": [
       "KNeighborsClassifier(algorithm='auto', leaf_size=30, metric='minkowski',\n",
       "           metric_params=None, n_jobs=1, n_neighbors=1, p=2,\n",
       "           weights='uniform')"
      ]
     },
     "execution_count": 12,
     "metadata": {},
     "output_type": "execute_result"
    }
   ],
   "source": [
    "print(\"-----------------\")\n",
    "print np.ravel(y,order='C')\n",
    "\n",
    "knn.fit(x,np.ravel(y,order='C'))  #train the model"
   ]
  },
  {
   "cell_type": "code",
   "execution_count": 13,
   "metadata": {},
   "outputs": [
    {
     "data": {
      "text/plain": [
       "array([0])"
      ]
     },
     "execution_count": 13,
     "metadata": {},
     "output_type": "execute_result"
    }
   ],
   "source": [
    "X = [[5,6,0,7,0,8,0,9]]\n",
    "knn.predict(X)"
   ]
  },
  {
   "cell_type": "code",
   "execution_count": 14,
   "metadata": {},
   "outputs": [
    {
     "name": "stdout",
     "output_type": "stream",
     "text": [
      "0.7778911781590866\n"
     ]
    }
   ],
   "source": [
    "y_pred=knn.predict(x)\n",
    "from sklearn import metrics\n",
    "print metrics.accuracy_score(y,y_pred)"
   ]
  },
  {
   "cell_type": "markdown",
   "metadata": {},
   "source": [
    "## KNN=3"
   ]
  },
  {
   "cell_type": "code",
   "execution_count": 15,
   "metadata": {},
   "outputs": [
    {
     "name": "stdout",
     "output_type": "stream",
     "text": [
      "KNeighborsClassifier(algorithm='auto', leaf_size=30, metric='minkowski',\n",
      "           metric_params=None, n_jobs=1, n_neighbors=3, p=2,\n",
      "           weights='uniform')\n"
     ]
    },
    {
     "data": {
      "text/plain": [
       "KNeighborsClassifier(algorithm='auto', leaf_size=30, metric='minkowski',\n",
       "           metric_params=None, n_jobs=1, n_neighbors=3, p=2,\n",
       "           weights='uniform')"
      ]
     },
     "execution_count": 15,
     "metadata": {},
     "output_type": "execute_result"
    }
   ],
   "source": [
    "knn = KNeighborsClassifier(n_neighbors=3)\n",
    "print knn\n",
    "knn.fit(x,np.ravel(y,order='C'))  #train the model"
   ]
  },
  {
   "cell_type": "code",
   "execution_count": 16,
   "metadata": {},
   "outputs": [
    {
     "data": {
      "text/plain": [
       "array([0])"
      ]
     },
     "execution_count": 16,
     "metadata": {},
     "output_type": "execute_result"
    }
   ],
   "source": [
    "X = [[5,6,0,7,0,8,0,9]]\n",
    "knn.predict(X)"
   ]
  },
  {
   "cell_type": "code",
   "execution_count": 17,
   "metadata": {},
   "outputs": [
    {
     "name": "stdout",
     "output_type": "stream",
     "text": [
      "0.7676213561268099\n"
     ]
    }
   ],
   "source": [
    "y_pred=knn.predict(x)\n",
    "from sklearn import metrics\n",
    "print metrics.accuracy_score(y,y_pred)"
   ]
  },
  {
   "cell_type": "markdown",
   "metadata": {},
   "source": [
    "## KNN=5"
   ]
  },
  {
   "cell_type": "code",
   "execution_count": 18,
   "metadata": {},
   "outputs": [
    {
     "name": "stdout",
     "output_type": "stream",
     "text": [
      "KNeighborsClassifier(algorithm='auto', leaf_size=30, metric='minkowski',\n",
      "           metric_params=None, n_jobs=1, n_neighbors=5, p=2,\n",
      "           weights='uniform')\n"
     ]
    },
    {
     "data": {
      "text/plain": [
       "KNeighborsClassifier(algorithm='auto', leaf_size=30, metric='minkowski',\n",
       "           metric_params=None, n_jobs=1, n_neighbors=5, p=2,\n",
       "           weights='uniform')"
      ]
     },
     "execution_count": 18,
     "metadata": {},
     "output_type": "execute_result"
    }
   ],
   "source": [
    "knn = KNeighborsClassifier(n_neighbors=5)\n",
    "print knn\n",
    "knn.fit(x,np.ravel(y,order='C'))  #train the model"
   ]
  },
  {
   "cell_type": "code",
   "execution_count": 19,
   "metadata": {},
   "outputs": [
    {
     "data": {
      "text/plain": [
       "array([0])"
      ]
     },
     "execution_count": 19,
     "metadata": {},
     "output_type": "execute_result"
    }
   ],
   "source": [
    "X = [[5,6,0,7,0,8,0,9]]\n",
    "knn.predict(X)"
   ]
  },
  {
   "cell_type": "code",
   "execution_count": 20,
   "metadata": {},
   "outputs": [
    {
     "name": "stdout",
     "output_type": "stream",
     "text": [
      "0.7622631881099701\n"
     ]
    }
   ],
   "source": [
    "y_pred=knn.predict(x)\n",
    "from sklearn import metrics\n",
    "print metrics.accuracy_score(y,y_pred)"
   ]
  },
  {
   "cell_type": "markdown",
   "metadata": {},
   "source": [
    "# With Splitting Data"
   ]
  },
  {
   "cell_type": "code",
   "execution_count": 21,
   "metadata": {},
   "outputs": [
    {
     "name": "stderr",
     "output_type": "stream",
     "text": [
      "/anaconda2/lib/python2.7/site-packages/sklearn/cross_validation.py:41: DeprecationWarning: This module was deprecated in version 0.18 in favor of the model_selection module into which all the refactored classes and functions are moved. Also note that the interface of the new CV iterators are different from that of this module. This module will be removed in 0.20.\n",
      "  \"This module will be removed in 0.20.\", DeprecationWarning)\n"
     ]
    }
   ],
   "source": [
    "from sklearn.cross_validation import train_test_split"
   ]
  },
  {
   "cell_type": "code",
   "execution_count": 22,
   "metadata": {},
   "outputs": [],
   "source": [
    "xx_train,xx_test,yy_train,yy_test=train_test_split(df,df2,test_size=0.2)"
   ]
  },
  {
   "cell_type": "markdown",
   "metadata": {},
   "source": [
    "## KNN=1"
   ]
  },
  {
   "cell_type": "code",
   "execution_count": 23,
   "metadata": {},
   "outputs": [
    {
     "name": "stdout",
     "output_type": "stream",
     "text": [
      "(12541, 8)\n",
      "(3136, 8)\n"
     ]
    }
   ],
   "source": [
    "print xx_train.shape\n",
    "print xx_test.shape"
   ]
  },
  {
   "cell_type": "code",
   "execution_count": 24,
   "metadata": {},
   "outputs": [
    {
     "name": "stdout",
     "output_type": "stream",
     "text": [
      "(12541, 1)\n",
      "(3136, 1)\n"
     ]
    }
   ],
   "source": [
    "print yy_train.shape\n",
    "print yy_test.shape"
   ]
  },
  {
   "cell_type": "code",
   "execution_count": 25,
   "metadata": {},
   "outputs": [
    {
     "name": "stdout",
     "output_type": "stream",
     "text": [
      "KNeighborsClassifier(algorithm='auto', leaf_size=30, metric='minkowski',\n",
      "           metric_params=None, n_jobs=1, n_neighbors=1, p=2,\n",
      "           weights='uniform')\n"
     ]
    },
    {
     "data": {
      "text/plain": [
       "KNeighborsClassifier(algorithm='auto', leaf_size=30, metric='minkowski',\n",
       "           metric_params=None, n_jobs=1, n_neighbors=1, p=2,\n",
       "           weights='uniform')"
      ]
     },
     "execution_count": 25,
     "metadata": {},
     "output_type": "execute_result"
    }
   ],
   "source": [
    "knn = KNeighborsClassifier(n_neighbors=1)\n",
    "print knn\n",
    "knn.fit(xx_train,np.ravel(yy_train,order='C'))  #train the model"
   ]
  },
  {
   "cell_type": "code",
   "execution_count": 26,
   "metadata": {},
   "outputs": [
    {
     "name": "stdout",
     "output_type": "stream",
     "text": [
      "0.7480867346938775\n"
     ]
    }
   ],
   "source": [
    "yy_pred=knn.predict(xx_test)\n",
    "from sklearn import metrics\n",
    "print metrics.accuracy_score(yy_test,yy_pred)"
   ]
  },
  {
   "cell_type": "markdown",
   "metadata": {},
   "source": [
    "## KNN=3"
   ]
  },
  {
   "cell_type": "code",
   "execution_count": 27,
   "metadata": {},
   "outputs": [
    {
     "name": "stdout",
     "output_type": "stream",
     "text": [
      "KNeighborsClassifier(algorithm='auto', leaf_size=30, metric='minkowski',\n",
      "           metric_params=None, n_jobs=1, n_neighbors=3, p=2,\n",
      "           weights='uniform')\n"
     ]
    },
    {
     "data": {
      "text/plain": [
       "KNeighborsClassifier(algorithm='auto', leaf_size=30, metric='minkowski',\n",
       "           metric_params=None, n_jobs=1, n_neighbors=3, p=2,\n",
       "           weights='uniform')"
      ]
     },
     "execution_count": 27,
     "metadata": {},
     "output_type": "execute_result"
    }
   ],
   "source": [
    "knn = KNeighborsClassifier(n_neighbors=3)\n",
    "print knn\n",
    "knn.fit(xx_train,np.ravel(yy_train,order='C'))  #train the model"
   ]
  },
  {
   "cell_type": "code",
   "execution_count": 28,
   "metadata": {},
   "outputs": [
    {
     "name": "stdout",
     "output_type": "stream",
     "text": [
      "0.7496811224489796\n"
     ]
    }
   ],
   "source": [
    "yy_pred=knn.predict(xx_test)\n",
    "from sklearn import metrics\n",
    "print metrics.accuracy_score(yy_test,yy_pred)"
   ]
  },
  {
   "cell_type": "code",
   "execution_count": null,
   "metadata": {},
   "outputs": [],
   "source": []
  },
  {
   "cell_type": "markdown",
   "metadata": {},
   "source": [
    "## KNN=5"
   ]
  },
  {
   "cell_type": "code",
   "execution_count": 29,
   "metadata": {},
   "outputs": [
    {
     "name": "stdout",
     "output_type": "stream",
     "text": [
      "KNeighborsClassifier(algorithm='auto', leaf_size=30, metric='minkowski',\n",
      "           metric_params=None, n_jobs=1, n_neighbors=5, p=2,\n",
      "           weights='uniform')\n"
     ]
    },
    {
     "data": {
      "text/plain": [
       "KNeighborsClassifier(algorithm='auto', leaf_size=30, metric='minkowski',\n",
       "           metric_params=None, n_jobs=1, n_neighbors=5, p=2,\n",
       "           weights='uniform')"
      ]
     },
     "execution_count": 29,
     "metadata": {},
     "output_type": "execute_result"
    }
   ],
   "source": [
    "knn = KNeighborsClassifier(n_neighbors=5)\n",
    "print knn\n",
    "knn.fit(xx_train,np.ravel(yy_train,order='C'))  #train the model"
   ]
  },
  {
   "cell_type": "code",
   "execution_count": 30,
   "metadata": {},
   "outputs": [
    {
     "name": "stdout",
     "output_type": "stream",
     "text": [
      "0.7490433673469388\n"
     ]
    }
   ],
   "source": [
    "yy_pred=knn.predict(xx_test)\n",
    "from sklearn import metrics\n",
    "print metrics.accuracy_score(yy_test,yy_pred)"
   ]
  },
  {
   "cell_type": "code",
   "execution_count": 31,
   "metadata": {},
   "outputs": [
    {
     "data": {
      "text/plain": [
       "array([0])"
      ]
     },
     "execution_count": 31,
     "metadata": {},
     "output_type": "execute_result"
    }
   ],
   "source": [
    "X = [[19,20,0,0,16,21,0,0]]\n",
    "knn.predict(X)"
   ]
  },
  {
   "cell_type": "code",
   "execution_count": 32,
   "metadata": {},
   "outputs": [
    {
     "data": {
      "text/plain": [
       "array([1])"
      ]
     },
     "execution_count": 32,
     "metadata": {},
     "output_type": "execute_result"
    }
   ],
   "source": [
    "X = [[5,10,11,88,129,110,14,15]]\n",
    "knn.predict(X)"
   ]
  },
  {
   "cell_type": "markdown",
   "metadata": {},
   "source": [
    "# Simulated Data"
   ]
  },
  {
   "cell_type": "markdown",
   "metadata": {},
   "source": [
    "## Without Splitting Data"
   ]
  },
  {
   "cell_type": "code",
   "execution_count": 33,
   "metadata": {},
   "outputs": [
    {
     "name": "stdout",
     "output_type": "stream",
     "text": [
      "      hex0  hex1  hex2  hex3  hex4  hex5  hex6  hex7\n",
      "0        0     0     0     2     0     0     0     3\n",
      "1        4     4     0     5     0     0     0     0\n",
      "2        0     0     0     0     0     0     0     6\n",
      "3        0     0     2     7     8     9     0    10\n",
      "4        0     0    11    12    13     0     0    14\n",
      "5       15    16     0    17     0     0     0     0\n",
      "6        0    18     0     0     0     0     0     0\n",
      "7       19     0    20    21     0     0     0     9\n",
      "8        0     0     0     0    22     0     0     0\n",
      "9        0    23     0     0     0     0     0    18\n",
      "10       0     0     0     0     0     0     0     1\n",
      "11       0     0     0     2     0     0     0    24\n",
      "12       4     4     0     5     0     0     0     0\n",
      "13       0     0     0     0     0     0     0     6\n",
      "14       0     0     2     7     8     9     0    10\n",
      "15       0     0    11    12    25     0     0    26\n",
      "16      15    16     0    17     0     0     0     0\n",
      "17       0    27     0     0     0     0     0     0\n",
      "18      19     0    20    21     0     0     0     9\n",
      "19       0     0     0     0    22     0     0     0\n",
      "20       0    23     0     0     0     0     0    18\n",
      "21       0     0     0     0     0     0     0     6\n",
      "22       0     0     0     2     0     0     0     3\n",
      "23       4     4     0     5     0     0     0     0\n",
      "24       0    28     0     0     0     0     0     0\n",
      "25      19     0    20    21     0     0     0     9\n",
      "26       0     0     0     0    22     0     0     0\n",
      "27       0    23     0     0     0     0     0    18\n",
      "28       0     0     0     0     0     0     0     1\n",
      "29       0     0     0     2     0     0     0    24\n",
      "...    ...   ...   ...   ...   ...   ...   ...   ...\n",
      "3565     0    23     0     0     0     0     0    18\n",
      "3566     0     0     0     0     0     0     0     1\n",
      "3567     0     0     0     2     0     0     0    24\n",
      "3568     4     4     0     5     0     0     0     0\n",
      "3569     0     0     0     0     0     0     0     6\n",
      "3570     0    32     0     0     0     0     0     0\n",
      "3571    19     0    20    21     0     0     0     9\n",
      "3572     0     0     0     0    22     0     0     0\n",
      "3573     0    23     0     0     0     0     0    18\n",
      "3574     0     0     0     0     0     0     0     1\n",
      "3575     0     0     0     2     0     0     0    24\n",
      "3576     4     4     0     5     0     0     0     0\n",
      "3577     0     0     0     0     0     0     0     6\n",
      "3578     0    27     0     0     0     0     0     0\n",
      "3579    19     0    20    21     0     0     0     9\n",
      "3580     0     0     0     0    22     0     0     0\n",
      "3581     0    23     0     0     0     0     0    18\n",
      "3582     0     0     0     0     0     0     0     1\n",
      "3583     0     0     0     2     0     0     0    24\n",
      "3584     4     4     0     5     0     0     0     0\n",
      "3585     0     0     0     0     0     0     0     6\n",
      "3586     0     0     2     7     8     9     0    10\n",
      "3587     0     0    11    12    25     0     0    26\n",
      "3588     0    28     0     0     0     0     0     0\n",
      "3589    19     0    20    21     0     0     0     9\n",
      "3590     0     0     0     0    22     0     0     0\n",
      "3591     0    23     0     0     0     0     0    18\n",
      "3592     0     0     0     0     0     0     0     1\n",
      "3593     0     0     0     2     0     0     0    24\n",
      "3594     4     4     0     5     0     0     0     0\n",
      "\n",
      "[3595 rows x 8 columns]\n"
     ]
    }
   ],
   "source": [
    "# read input data\n",
    "dfs = pd.read_csv('DATA_2_PAIR_SIMULATED_INPUT.txt')\n",
    "dfs.columns = [\"hex0\", \"hex1\", \"hex2\", \"hex3\",\"hex4\",\"hex5\",\"hex6\",\"hex7\"]\n",
    "dfs.head()\n",
    "print dfs"
   ]
  },
  {
   "cell_type": "code",
   "execution_count": 34,
   "metadata": {},
   "outputs": [
    {
     "name": "stdout",
     "output_type": "stream",
     "text": [
      "      Classification\n",
      "0                  0\n",
      "1                  0\n",
      "2                  0\n",
      "3                  0\n",
      "4                  0\n",
      "5                  0\n",
      "6                  0\n",
      "7                  0\n",
      "8                  0\n",
      "9                  0\n",
      "10                 0\n",
      "11                 0\n",
      "12                 0\n",
      "13                 0\n",
      "14                 0\n",
      "15                 0\n",
      "16                 0\n",
      "17                 0\n",
      "18                 0\n",
      "19                 0\n",
      "20                 0\n",
      "21                 0\n",
      "22                 0\n",
      "23                 0\n",
      "24                 0\n",
      "25                 0\n",
      "26                 0\n",
      "27                 0\n",
      "28                 0\n",
      "29                 0\n",
      "...              ...\n",
      "3565               1\n",
      "3566               1\n",
      "3567               1\n",
      "3568               1\n",
      "3569               1\n",
      "3570               1\n",
      "3571               1\n",
      "3572               1\n",
      "3573               1\n",
      "3574               1\n",
      "3575               1\n",
      "3576               1\n",
      "3577               1\n",
      "3578               1\n",
      "3579               1\n",
      "3580               1\n",
      "3581               1\n",
      "3582               1\n",
      "3583               1\n",
      "3584               1\n",
      "3585               1\n",
      "3586               1\n",
      "3587               1\n",
      "3588               1\n",
      "3589               1\n",
      "3590               1\n",
      "3591               1\n",
      "3592               1\n",
      "3593               1\n",
      "3594               1\n",
      "\n",
      "[3595 rows x 1 columns]\n"
     ]
    }
   ],
   "source": [
    "# read output data\n",
    "dfs2 = pd.read_csv('DATA_2_PAIR_SIMULATED_OUTPUT.txt')\n",
    "dfs2.columns = [\"Classification\"]\n",
    "print dfs2\n",
    "# 0-> Idle\n",
    "# 1-> Drive"
   ]
  },
  {
   "cell_type": "code",
   "execution_count": 35,
   "metadata": {},
   "outputs": [],
   "source": [
    "# feature matrix\n",
    "dfs_np = dfs.values\n",
    "x_sim=dfs_np\n",
    "# response vector (target) - 0,1\n",
    "dfs2_np = dfs2.values\n",
    "y_sim=dfs2_np"
   ]
  },
  {
   "cell_type": "markdown",
   "metadata": {},
   "source": [
    "## KNN=1"
   ]
  },
  {
   "cell_type": "code",
   "execution_count": 36,
   "metadata": {},
   "outputs": [
    {
     "name": "stdout",
     "output_type": "stream",
     "text": [
      "KNeighborsClassifier(algorithm='auto', leaf_size=30, metric='minkowski',\n",
      "           metric_params=None, n_jobs=1, n_neighbors=1, p=2,\n",
      "           weights='uniform')\n"
     ]
    }
   ],
   "source": [
    "knn = KNeighborsClassifier(n_neighbors=1)\n",
    "print knn"
   ]
  },
  {
   "cell_type": "code",
   "execution_count": 37,
   "metadata": {},
   "outputs": [
    {
     "data": {
      "text/plain": [
       "KNeighborsClassifier(algorithm='auto', leaf_size=30, metric='minkowski',\n",
       "           metric_params=None, n_jobs=1, n_neighbors=1, p=2,\n",
       "           weights='uniform')"
      ]
     },
     "execution_count": 37,
     "metadata": {},
     "output_type": "execute_result"
    }
   ],
   "source": [
    "knn.fit(x_sim,np.ravel(y_sim,order='C'))  #train the model"
   ]
  },
  {
   "cell_type": "code",
   "execution_count": 38,
   "metadata": {},
   "outputs": [
    {
     "data": {
      "text/plain": [
       "array([0])"
      ]
     },
     "execution_count": 38,
     "metadata": {},
     "output_type": "execute_result"
    }
   ],
   "source": [
    "X = [[4,4,0,5,0,0,0,0]]\n",
    "knn.predict(X)"
   ]
  },
  {
   "cell_type": "code",
   "execution_count": 39,
   "metadata": {},
   "outputs": [
    {
     "name": "stdout",
     "output_type": "stream",
     "text": [
      "0.6495132127955494\n"
     ]
    }
   ],
   "source": [
    "y_pred=knn.predict(x_sim)\n",
    "from sklearn import metrics\n",
    "print metrics.accuracy_score(y_sim,y_pred)"
   ]
  },
  {
   "cell_type": "markdown",
   "metadata": {},
   "source": [
    "## KNN=3"
   ]
  },
  {
   "cell_type": "code",
   "execution_count": 40,
   "metadata": {},
   "outputs": [
    {
     "name": "stdout",
     "output_type": "stream",
     "text": [
      "KNeighborsClassifier(algorithm='auto', leaf_size=30, metric='minkowski',\n",
      "           metric_params=None, n_jobs=1, n_neighbors=3, p=2,\n",
      "           weights='uniform')\n"
     ]
    }
   ],
   "source": [
    "knn = KNeighborsClassifier(n_neighbors=3)\n",
    "print knn"
   ]
  },
  {
   "cell_type": "code",
   "execution_count": 41,
   "metadata": {},
   "outputs": [
    {
     "data": {
      "text/plain": [
       "KNeighborsClassifier(algorithm='auto', leaf_size=30, metric='minkowski',\n",
       "           metric_params=None, n_jobs=1, n_neighbors=3, p=2,\n",
       "           weights='uniform')"
      ]
     },
     "execution_count": 41,
     "metadata": {},
     "output_type": "execute_result"
    }
   ],
   "source": [
    "knn.fit(x_sim,np.ravel(y_sim,order='C'))  #train the model"
   ]
  },
  {
   "cell_type": "code",
   "execution_count": 42,
   "metadata": {},
   "outputs": [
    {
     "data": {
      "text/plain": [
       "array([0])"
      ]
     },
     "execution_count": 42,
     "metadata": {},
     "output_type": "execute_result"
    }
   ],
   "source": [
    "X = [[4,4,0,5,0,0,0,0]]\n",
    "knn.predict(X)\n",
    "# it shd be 1 not 0"
   ]
  },
  {
   "cell_type": "code",
   "execution_count": 43,
   "metadata": {},
   "outputs": [
    {
     "name": "stdout",
     "output_type": "stream",
     "text": [
      "0.7009735744089013\n"
     ]
    }
   ],
   "source": [
    "y_pred=knn.predict(x_sim)\n",
    "from sklearn import metrics\n",
    "print metrics.accuracy_score(y_sim,y_pred)"
   ]
  },
  {
   "cell_type": "markdown",
   "metadata": {},
   "source": [
    "## KNN=5"
   ]
  },
  {
   "cell_type": "code",
   "execution_count": 44,
   "metadata": {},
   "outputs": [
    {
     "name": "stdout",
     "output_type": "stream",
     "text": [
      "KNeighborsClassifier(algorithm='auto', leaf_size=30, metric='minkowski',\n",
      "           metric_params=None, n_jobs=1, n_neighbors=5, p=2,\n",
      "           weights='uniform')\n"
     ]
    }
   ],
   "source": [
    "knn = KNeighborsClassifier(n_neighbors=5)\n",
    "print knn"
   ]
  },
  {
   "cell_type": "code",
   "execution_count": 45,
   "metadata": {},
   "outputs": [
    {
     "data": {
      "text/plain": [
       "KNeighborsClassifier(algorithm='auto', leaf_size=30, metric='minkowski',\n",
       "           metric_params=None, n_jobs=1, n_neighbors=5, p=2,\n",
       "           weights='uniform')"
      ]
     },
     "execution_count": 45,
     "metadata": {},
     "output_type": "execute_result"
    }
   ],
   "source": [
    "knn.fit(x_sim,np.ravel(y_sim,order='C'))  #train the model"
   ]
  },
  {
   "cell_type": "code",
   "execution_count": 46,
   "metadata": {},
   "outputs": [
    {
     "data": {
      "text/plain": [
       "array([0])"
      ]
     },
     "execution_count": 46,
     "metadata": {},
     "output_type": "execute_result"
    }
   ],
   "source": [
    "X = [[4,4,0,5,0,0,0,0]]\n",
    "knn.predict(X)\n",
    "# it shd be 1 not 0"
   ]
  },
  {
   "cell_type": "code",
   "execution_count": 47,
   "metadata": {},
   "outputs": [
    {
     "name": "stdout",
     "output_type": "stream",
     "text": [
      "0.7190542420027817\n"
     ]
    }
   ],
   "source": [
    "y_pred=knn.predict(x_sim)\n",
    "from sklearn import metrics\n",
    "print metrics.accuracy_score(y_sim,y_pred)"
   ]
  },
  {
   "cell_type": "markdown",
   "metadata": {},
   "source": [
    "## With Splitting Data"
   ]
  },
  {
   "cell_type": "code",
   "execution_count": 48,
   "metadata": {},
   "outputs": [],
   "source": [
    "xx_sim_train,xx_sim_test,yy_sim_train,yy_sim_test=train_test_split(x_sim,y_sim,test_size=0.2)"
   ]
  },
  {
   "cell_type": "code",
   "execution_count": null,
   "metadata": {},
   "outputs": [],
   "source": []
  },
  {
   "cell_type": "markdown",
   "metadata": {},
   "source": [
    "## KNN = 1"
   ]
  },
  {
   "cell_type": "code",
   "execution_count": 49,
   "metadata": {},
   "outputs": [
    {
     "name": "stdout",
     "output_type": "stream",
     "text": [
      "KNeighborsClassifier(algorithm='auto', leaf_size=30, metric='minkowski',\n",
      "           metric_params=None, n_jobs=1, n_neighbors=1, p=2,\n",
      "           weights='uniform')\n"
     ]
    },
    {
     "data": {
      "text/plain": [
       "KNeighborsClassifier(algorithm='auto', leaf_size=30, metric='minkowski',\n",
       "           metric_params=None, n_jobs=1, n_neighbors=1, p=2,\n",
       "           weights='uniform')"
      ]
     },
     "execution_count": 49,
     "metadata": {},
     "output_type": "execute_result"
    }
   ],
   "source": [
    "knn = KNeighborsClassifier(n_neighbors=1)\n",
    "print knn\n",
    "knn.fit(xx_sim_train,np.ravel(yy_sim_train,order='C'))  #train the model"
   ]
  },
  {
   "cell_type": "code",
   "execution_count": 50,
   "metadata": {},
   "outputs": [
    {
     "name": "stdout",
     "output_type": "stream",
     "text": [
      "0.6050069541029207\n"
     ]
    }
   ],
   "source": [
    "yy_pred=knn.predict(xx_sim_test)\n",
    "from sklearn import metrics\n",
    "print metrics.accuracy_score(yy_sim_test,yy_pred)"
   ]
  },
  {
   "cell_type": "markdown",
   "metadata": {},
   "source": [
    "## KNN = 3"
   ]
  },
  {
   "cell_type": "code",
   "execution_count": 51,
   "metadata": {},
   "outputs": [
    {
     "name": "stdout",
     "output_type": "stream",
     "text": [
      "KNeighborsClassifier(algorithm='auto', leaf_size=30, metric='minkowski',\n",
      "           metric_params=None, n_jobs=1, n_neighbors=3, p=2,\n",
      "           weights='uniform')\n"
     ]
    },
    {
     "data": {
      "text/plain": [
       "KNeighborsClassifier(algorithm='auto', leaf_size=30, metric='minkowski',\n",
       "           metric_params=None, n_jobs=1, n_neighbors=3, p=2,\n",
       "           weights='uniform')"
      ]
     },
     "execution_count": 51,
     "metadata": {},
     "output_type": "execute_result"
    }
   ],
   "source": [
    "knn = KNeighborsClassifier(n_neighbors=3)\n",
    "print knn\n",
    "knn.fit(xx_sim_train,np.ravel(yy_sim_train,order='C'))  #train the model"
   ]
  },
  {
   "cell_type": "code",
   "execution_count": 52,
   "metadata": {},
   "outputs": [
    {
     "name": "stdout",
     "output_type": "stream",
     "text": [
      "0.6884561891515995\n"
     ]
    }
   ],
   "source": [
    "yy_pred=knn.predict(xx_sim_test)\n",
    "from sklearn import metrics\n",
    "print metrics.accuracy_score(yy_sim_test,yy_pred)"
   ]
  },
  {
   "cell_type": "markdown",
   "metadata": {},
   "source": [
    "# KNN = 5"
   ]
  },
  {
   "cell_type": "code",
   "execution_count": 53,
   "metadata": {},
   "outputs": [
    {
     "name": "stdout",
     "output_type": "stream",
     "text": [
      "KNeighborsClassifier(algorithm='auto', leaf_size=30, metric='minkowski',\n",
      "           metric_params=None, n_jobs=1, n_neighbors=5, p=2,\n",
      "           weights='uniform')\n"
     ]
    },
    {
     "data": {
      "text/plain": [
       "KNeighborsClassifier(algorithm='auto', leaf_size=30, metric='minkowski',\n",
       "           metric_params=None, n_jobs=1, n_neighbors=5, p=2,\n",
       "           weights='uniform')"
      ]
     },
     "execution_count": 53,
     "metadata": {},
     "output_type": "execute_result"
    }
   ],
   "source": [
    "knn = KNeighborsClassifier(n_neighbors=5)\n",
    "print knn\n",
    "knn.fit(xx_sim_train,np.ravel(yy_sim_train,order='C'))  #train the model"
   ]
  },
  {
   "cell_type": "code",
   "execution_count": 54,
   "metadata": {},
   "outputs": [
    {
     "name": "stdout",
     "output_type": "stream",
     "text": [
      "0.713490959666203\n"
     ]
    }
   ],
   "source": [
    "yy_pred=knn.predict(xx_sim_test)\n",
    "from sklearn import metrics\n",
    "print metrics.accuracy_score(yy_sim_test,yy_pred)"
   ]
  },
  {
   "cell_type": "markdown",
   "metadata": {},
   "source": [
    "# Word2Vec"
   ]
  },
  {
   "cell_type": "markdown",
   "metadata": {},
   "source": [
    "## Without Splitting Data"
   ]
  },
  {
   "cell_type": "markdown",
   "metadata": {},
   "source": [
    "## KNN=1"
   ]
  },
  {
   "cell_type": "markdown",
   "metadata": {},
   "source": [
    "## KNN=3"
   ]
  },
  {
   "cell_type": "markdown",
   "metadata": {},
   "source": [
    "## KNN=5"
   ]
  },
  {
   "cell_type": "markdown",
   "metadata": {},
   "source": [
    "## With Splitting Data"
   ]
  },
  {
   "cell_type": "code",
   "execution_count": null,
   "metadata": {},
   "outputs": [],
   "source": []
  },
  {
   "cell_type": "code",
   "execution_count": null,
   "metadata": {},
   "outputs": [],
   "source": []
  },
  {
   "cell_type": "code",
   "execution_count": null,
   "metadata": {},
   "outputs": [],
   "source": []
  },
  {
   "cell_type": "code",
   "execution_count": null,
   "metadata": {},
   "outputs": [],
   "source": []
  },
  {
   "cell_type": "code",
   "execution_count": null,
   "metadata": {},
   "outputs": [],
   "source": []
  },
  {
   "cell_type": "code",
   "execution_count": null,
   "metadata": {},
   "outputs": [],
   "source": []
  },
  {
   "cell_type": "code",
   "execution_count": null,
   "metadata": {},
   "outputs": [],
   "source": []
  },
  {
   "cell_type": "code",
   "execution_count": null,
   "metadata": {},
   "outputs": [],
   "source": []
  },
  {
   "cell_type": "code",
   "execution_count": null,
   "metadata": {},
   "outputs": [],
   "source": []
  },
  {
   "cell_type": "code",
   "execution_count": null,
   "metadata": {},
   "outputs": [],
   "source": []
  },
  {
   "cell_type": "code",
   "execution_count": null,
   "metadata": {},
   "outputs": [],
   "source": []
  },
  {
   "cell_type": "code",
   "execution_count": null,
   "metadata": {},
   "outputs": [],
   "source": []
  }
 ],
 "metadata": {
  "kernelspec": {
   "display_name": "Python 2",
   "language": "python",
   "name": "python2"
  },
  "language_info": {
   "codemirror_mode": {
    "name": "ipython",
    "version": 2
   },
   "file_extension": ".py",
   "mimetype": "text/x-python",
   "name": "python",
   "nbconvert_exporter": "python",
   "pygments_lexer": "ipython2",
   "version": "2.7.15"
  }
 },
 "nbformat": 4,
 "nbformat_minor": 2
}
