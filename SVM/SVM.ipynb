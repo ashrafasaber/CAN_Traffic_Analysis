{
 "cells": [
  {
   "cell_type": "code",
   "execution_count": 1,
   "metadata": {},
   "outputs": [],
   "source": [
    "import matplotlib.pyplot as plt\n",
    "import pandas as pd\n",
    "from matplotlib import style\n",
    "import numpy as np\n",
    "from sklearn.model_selection import train_test_split\n",
    "style.use('ggplot')"
   ]
  },
  {
   "cell_type": "code",
   "execution_count": 2,
   "metadata": {},
   "outputs": [],
   "source": [
    "from sklearn import svm\n",
    "from sklearn.metrics import accuracy_score"
   ]
  },
  {
   "cell_type": "markdown",
   "metadata": {},
   "source": [
    "# Actual Data"
   ]
  },
  {
   "cell_type": "code",
   "execution_count": 3,
   "metadata": {},
   "outputs": [],
   "source": [
    "# read input data\n",
    "df = pd.read_csv('INPUT_DATA_ACTUAL.txt')\n",
    "df.columns = [\"hex0\", \"hex1\", \"hex2\", \"hex3\",\"hex4\",\"hex5\",\"hex6\",\"hex7\"]\n",
    "df.head()\n",
    "\n",
    "# read output data\n",
    "df2 = pd.read_csv('OUTPUT_DATA_ACTUAL.txt')\n",
    "df2.columns = [\"Classification\"]"
   ]
  },
  {
   "cell_type": "code",
   "execution_count": 4,
   "metadata": {},
   "outputs": [
    {
     "name": "stdout",
     "output_type": "stream",
     "text": [
      "\n",
      " Features\n",
      "[[  0   4   0 ...   0   0   0]\n",
      " [  5   6   0 ...   8   0   9]\n",
      " [  5  10  11 ...  13  14  15]\n",
      " ...\n",
      " [  5  10  11 ... 110  14  15]\n",
      " [  0   4   0 ...   0   0   0]\n",
      " [  0   0   0 ...   0   0   0]]\n",
      "\n",
      " Response\n",
      "[[0]\n",
      " [0]\n",
      " [0]\n",
      " ...\n",
      " [2]\n",
      " [2]\n",
      " [2]]\n",
      "\n",
      "\n"
     ]
    }
   ],
   "source": [
    "print(\"\\n Features\")\n",
    "df_np=df.values\n",
    "print df_np\n",
    "print(\"\\n Response\")\n",
    "df2_np=df2.values\n",
    "print df2_np\n",
    "print(\"\\n\")"
   ]
  },
  {
   "cell_type": "code",
   "execution_count": 5,
   "metadata": {},
   "outputs": [],
   "source": [
    "# feature matrix\n",
    "x = df_np\n",
    "# response vector (target) - 0,1,2\n",
    "y = df2_np"
   ]
  },
  {
   "cell_type": "code",
   "execution_count": 6,
   "metadata": {},
   "outputs": [
    {
     "name": "stdout",
     "output_type": "stream",
     "text": [
      "(15677, 8)\n",
      "(15677, 1)\n",
      "-----------------\n",
      "(15677, 8)\n",
      "(15677, 1)\n"
     ]
    }
   ],
   "source": [
    "print(df.shape)\n",
    "print(df2.shape)\n",
    "print(\"-----------------\")\n",
    "print(df_np.shape)\n",
    "print(df2_np.shape)\n",
    "df2_np=np.ravel(y,order='C')"
   ]
  },
  {
   "cell_type": "markdown",
   "metadata": {},
   "source": [
    "## No Data Splitting"
   ]
  },
  {
   "cell_type": "code",
   "execution_count": 7,
   "metadata": {},
   "outputs": [],
   "source": [
    "clf = svm.SVC(gamma=0.001,C=100, kernel='linear')"
   ]
  },
  {
   "cell_type": "code",
   "execution_count": null,
   "metadata": {},
   "outputs": [],
   "source": [
    "clf.fit(x,np.ravel(y,order='C'))"
   ]
  },
  {
   "cell_type": "code",
   "execution_count": null,
   "metadata": {},
   "outputs": [],
   "source": [
    "y_predict = clf.predict(x)"
   ]
  },
  {
   "cell_type": "code",
   "execution_count": null,
   "metadata": {},
   "outputs": [],
   "source": [
    "print metrics.accuracy_score(y,y_predict)"
   ]
  },
  {
   "cell_type": "markdown",
   "metadata": {},
   "source": [
    "## Data Splitting"
   ]
  },
  {
   "cell_type": "code",
   "execution_count": null,
   "metadata": {},
   "outputs": [],
   "source": [
    "x_train,x_test,y_train,y_test=train_test_split(x,y,test_size=0.2)"
   ]
  },
  {
   "cell_type": "code",
   "execution_count": null,
   "metadata": {},
   "outputs": [],
   "source": [
    "clf = svm.SVC(gamma=0.001,C=100, kernel='linear')"
   ]
  },
  {
   "cell_type": "code",
   "execution_count": null,
   "metadata": {},
   "outputs": [],
   "source": [
    "clf.fit(x_train,np.ravel(y_train,order='C'))"
   ]
  },
  {
   "cell_type": "code",
   "execution_count": null,
   "metadata": {},
   "outputs": [],
   "source": [
    "y_predict = clf.predict(x_test)"
   ]
  },
  {
   "cell_type": "code",
   "execution_count": null,
   "metadata": {},
   "outputs": [],
   "source": [
    "print metrics.accuracy_score(y_test,y_predict)"
   ]
  },
  {
   "cell_type": "markdown",
   "metadata": {},
   "source": [
    "# Simulated Data"
   ]
  },
  {
   "cell_type": "code",
   "execution_count": null,
   "metadata": {},
   "outputs": [],
   "source": [
    "# read input data\n",
    "dfs = pd.read_csv('DATA_2_PAIR_SIMULATED_INPUT.txt')\n",
    "dfs.columns = [\"hex0\", \"hex1\", \"hex2\", \"hex3\",\"hex4\",\"hex5\",\"hex6\",\"hex7\"]\n",
    "dfs.head()\n",
    "print dfs"
   ]
  },
  {
   "cell_type": "code",
   "execution_count": null,
   "metadata": {},
   "outputs": [],
   "source": [
    "# read output data\n",
    "dfs2 = pd.read_csv('DATA_2_PAIR_SIMULATED_OUTPUT.txt')\n",
    "dfs2.columns = [\"Classification\"]\n",
    "print dfs2\n",
    "# 0-> Idle\n",
    "# 1-> Drive"
   ]
  },
  {
   "cell_type": "code",
   "execution_count": null,
   "metadata": {},
   "outputs": [],
   "source": [
    "# feature matrix\n",
    "dfs_np = dfs.values\n",
    "x_sim=dfs_np\n",
    "# response vector (target) - 0,1\n",
    "dfs2_np = dfs2.values\n",
    "y_sim=dfs2_np"
   ]
  },
  {
   "cell_type": "markdown",
   "metadata": {},
   "source": [
    "## No Data Splitting"
   ]
  },
  {
   "cell_type": "code",
   "execution_count": null,
   "metadata": {},
   "outputs": [],
   "source": [
    "clf = svm.SVC(gamma=0.001,C=100, kernel='linear')\n",
    "clf.fit(x_sim,np.ravel(y_sim,order='C'))\n",
    "y_predict = clf.predict(x_sim)\n",
    "print metrics.accuracy_score(y_sim,y_predict)"
   ]
  },
  {
   "cell_type": "markdown",
   "metadata": {},
   "source": [
    "## Data Splitting"
   ]
  },
  {
   "cell_type": "code",
   "execution_count": null,
   "metadata": {},
   "outputs": [],
   "source": [
    "x_train,x_test,y_train,y_test=train_test_split(x_sim,y_sim,test_size=0.2)"
   ]
  },
  {
   "cell_type": "code",
   "execution_count": null,
   "metadata": {},
   "outputs": [],
   "source": [
    "clf = svm.SVC(gamma=0.001,C=100, kernel='linear')\n",
    "clf.fit(x_train,np.ravel(y_train,order='C'))\n",
    "y_predict = clf.predict(x_test)\n",
    "print metrics.accuracy_score(y_test,y_predict)"
   ]
  },
  {
   "cell_type": "code",
   "execution_count": null,
   "metadata": {},
   "outputs": [],
   "source": []
  },
  {
   "cell_type": "code",
   "execution_count": null,
   "metadata": {},
   "outputs": [],
   "source": []
  },
  {
   "cell_type": "code",
   "execution_count": null,
   "metadata": {},
   "outputs": [],
   "source": []
  },
  {
   "cell_type": "code",
   "execution_count": null,
   "metadata": {},
   "outputs": [],
   "source": []
  },
  {
   "cell_type": "code",
   "execution_count": null,
   "metadata": {},
   "outputs": [],
   "source": []
  }
 ],
 "metadata": {
  "kernelspec": {
   "display_name": "Python 2",
   "language": "python",
   "name": "python2"
  },
  "language_info": {
   "codemirror_mode": {
    "name": "ipython",
    "version": 2
   },
   "file_extension": ".py",
   "mimetype": "text/x-python",
   "name": "python",
   "nbconvert_exporter": "python",
   "pygments_lexer": "ipython2",
   "version": "2.7.15"
  }
 },
 "nbformat": 4,
 "nbformat_minor": 2
}
