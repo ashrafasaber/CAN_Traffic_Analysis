{
 "cells": [
  {
   "cell_type": "code",
   "execution_count": 1,
   "metadata": {},
   "outputs": [],
   "source": [
    "from gensim.test.utils import common_texts, get_tmpfile\n",
    "from gensim.models import Word2Vec\n",
    "\n",
    "import time\n",
    "import os\n",
    "import numpy as np\n",
    "\n",
    "import tensorflow as tf\n",
    "\n",
    "modelfileName = \"CS286-Word2Vec.model\"\n",
    "training_size_arr_actual = [0, 0, 0]\n",
    "training_size_arr_simulated = [0, 0, 0, 0]\n",
    "\n",
    "dirNameInput = 'Word2VecData_Input'\n",
    "dirNameOutput = 'Word2VecKNNData_Output'\n",
    "\n",
    "#dirNameInput = 'D:\\Courses\\CS286 ML\\Project\\Code\\CAN Traffic Analyzer\\CAN_Traffic_Analysis\\Word2Vec\\Word2VecData_Input'\n",
    "#dirNameOutput = 'D:\\Courses\\CS286 ML\\Project\\Code\\CAN Traffic Analyzer\\CAN_Traffic_Analysis\\Word2Vec\\Word2VecData_Output'\n",
    "\n",
    "\n",
    "Word2Vec_model = None\n",
    "\n",
    "X = None\n",
    "Y = None\n",
    "x_train = None\n",
    "y_train = None\n",
    "x_test = None\n",
    "y_test = None\n",
    "\n",
    "model = None\n"
   ]
  },
  {
   "cell_type": "code",
   "execution_count": 2,
   "metadata": {},
   "outputs": [],
   "source": [
    "def createDataFiles():\n",
    "    import time\n",
    "    start = time.time()\n",
    "    stride = 2\n",
    "    \n",
    "    fileNamesActual = ['autopark.dat', 'drive.dat', 'idle.dat']\n",
    "    \n",
    "    # To only work with simulated data start commenting from here\n",
    "    fileInput = open(\"Word2VecData_Input\\Word2VecDataActual.txt\", \"w\")\n",
    "    fileOutput = open(\"Word2VecData_Output\\Word2VecDataActual.txt\", \"w\")\n",
    "    \n",
    "\n",
    "    for i in range(len(fileNamesActual)):\n",
    "        with open(fileNamesActual[i]) as f:\n",
    "            content = f.readlines()\n",
    "\n",
    "        # Remove the extra spaces from the sentences\n",
    "        content = [x.strip() for x in content]\n",
    "        value = int(0.8 * len(content))\n",
    "    \n",
    "        training_size_arr_actual[i] = value\n",
    "        \n",
    "        value = len(content)\n",
    "        print(value)\n",
    "\n",
    "        cntCntr = 0\n",
    "        while cntCntr < value:\n",
    "            iteration = 0\n",
    "            currMessagePackets = \"\"\n",
    "\n",
    "            while iteration < 5 and cntCntr < value:\n",
    "                parts = content[cntCntr].split(\",\")\n",
    "\n",
    "                # this is the whole message\n",
    "                DATA = parts[3].split(\":\")[1].replace(\" \", \"\")\n",
    "\n",
    "                currMessagePackets += str(DATA) + \" \"\n",
    "\n",
    "                cntCntr += 1\n",
    "                iteration += 1\n",
    "\n",
    "            if cntCntr < value:\n",
    "                cntCntr -= stride\n",
    "            else:\n",
    "                break\n",
    "            fileInput.write(currMessagePackets + \"\\n\")\n",
    "            fileOutput.write(str(i) + \"\\n\")\n",
    "    fileInput.close()\n",
    "    fileOutput.close()\n",
    "    # To only work with Simulated data end commenting till here\n",
    "\n",
    "    # To only work with actual data start commenting from here\n",
    "    # For Simulated data\n",
    "    fileInput = open(\"Word2VecData_Input\\Word2VecDataSimulated.txt\", \"w\")\n",
    "    fileOutput = open(\"Word2VecKNNData_Output\\Word2VecDataSimulated.txt\", \"w\")\n",
    "    fileNamesSimulated = ['New_DRIVE_Data.txt', 'New_IDLE_Data.txt', 'DRIVE.rtf', 'IDLE.rtf']\n",
    "    arrSimulated = [1, 2, 1, 2]\n",
    "\n",
    "    for i in range(len(fileNamesSimulated)):\n",
    "        with open(fileNamesSimulated[i]) as f:\n",
    "            content = f.readlines()\n",
    "\n",
    "        # Remove the extra spaces from the sentences\n",
    "        content = [x.strip() for x in content]\n",
    "        \n",
    "        training_size_arr_simulated[i] = (0.8 * len(content))\n",
    "        \n",
    "        print(len(content))\n",
    "\n",
    "        cntCntr = 0\n",
    "        while cntCntr < len(content):\n",
    "            iteration = 0\n",
    "            currMessagePackets = \"\"\n",
    "\n",
    "            while iteration < 5 and cntCntr < len(content):\n",
    "                # Remove the noise from the files\n",
    "                DATA = content[cntCntr][15:38]\n",
    "\n",
    "                # this is the whole message\n",
    "                parts = DATA.split()\n",
    "\n",
    "                tempo = \"\"\n",
    "                for j in range(8):\n",
    "                    if j >= len(parts) or parts[j] == \"  \":\n",
    "                        tempo += \"00\"\n",
    "                    else:\n",
    "                        tempo += parts[j]\n",
    "\n",
    "                currMessagePackets += str(tempo) + \" \"\n",
    "                cntCntr += 1\n",
    "                iteration += 1\n",
    "\n",
    "            if cntCntr < len(content):\n",
    "                cntCntr -= stride\n",
    "            else:\n",
    "                break\n",
    "            fileInput.write(currMessagePackets + \"\\n\")\n",
    "            fileOutput.write(str(arrSimulated[i]) + \"\\n\")\n",
    "\n",
    "    fileInput.close()\n",
    "    # To only work with actual data end commenting till here\n",
    "    end = time.time()\n",
    "\n",
    "    print(\"Awesome !!! File processing done !!!\")\n",
    "    print(\"Total Time for file processing ---> \", end - start)\n"
   ]
  },
  {
   "cell_type": "code",
   "execution_count": 3,
   "metadata": {},
   "outputs": [],
   "source": [
    "class IteratingClass:\n",
    "    def __init__(self, dirName):\n",
    "        self.dirName = dirName\n",
    "\n",
    "    def __iter__(self):\n",
    "        for fName in os.listdir(self.dirName):\n",
    "            for line in open(os.path.join(self.dirName, fName)):\n",
    "                yield line.split()\n",
    "\n",
    "def createWord2VecModels():\n",
    "    start = time.time()\n",
    "    dataDirec = IteratingClass(dirNameInput)\n",
    "    model = Word2Vec(dataDirec, size=200, window=5, min_count=1, workers=8)\n",
    "    model.save(modelfileName)\n",
    "    end = time.time()\n",
    "    print(\"\\n\\nTraining Successful for Word2Vec Model!!!\")\n",
    "    print(\"Total Time for Word2Vec model -> \", (end - start))\n"
   ]
  },
  {
   "cell_type": "code",
   "execution_count": 4,
   "metadata": {},
   "outputs": [],
   "source": [
    "def train():\n",
    "    createDataFiles()\n",
    "    createWord2VecModels()\n",
    "\n"
   ]
  },
  {
   "cell_type": "code",
   "execution_count": 5,
   "metadata": {},
   "outputs": [
    {
     "name": "stdout",
     "output_type": "stream",
     "text": [
      "5592\n",
      "5582\n",
      "5601\n",
      "29977\n",
      "29993\n",
      "1814\n",
      "1802\n",
      "Awesome !!! File processing done !!!\n",
      "('Total Time for file processing ---> ', 1.211883783340454)\n",
      "\n",
      "\n",
      "Training Successful for Word2Vec Model!!!\n",
      "('Total Time for Word2Vec model -> ', 1.6337180137634277)\n"
     ]
    }
   ],
   "source": [
    "train()"
   ]
  },
  {
   "cell_type": "code",
   "execution_count": 6,
   "metadata": {},
   "outputs": [],
   "source": [
    "\n",
    "# Convert the data into Numpy Arrays: It will take a lot of time\n",
    "start = time.time()\n",
    "Word2Vec_model = Word2Vec.load(modelfileName)\n",
    "x_train = None\n",
    "def getNumpyArray():\n",
    "    global X\n",
    "    global Y\n",
    "    global dirNameInput\n",
    "    X = None\n",
    "    Y = None\n",
    "    print(\"Processing started \")\n",
    "    for fName in os.listdir(dirNameInput):\n",
    "        for line in open(os.path.join(dirNameInput, fName)):\n",
    "            parts = line.split()\n",
    "            currV = Word2Vec_model.wv[parts[0]]\n",
    "            currV.setflags(write=1)\n",
    "            for i in range(1, len(parts)):\n",
    "                currV += Word2Vec_model.wv[parts[i]]\n",
    "            currV /= len(parts)\n",
    "            if X is None:\n",
    "                X = currV\n",
    "            else:\n",
    "                X = np.vstack([X, currV])\n",
    "                \n",
    "    print(\"Processing started for output \")\n",
    "    for fName in os.listdir(dirNameOutput):\n",
    "        for line in open(os.path.join(dirNameOutput, fName)):\n",
    "            currV = int(line)\n",
    "            if Y is None:\n",
    "                Y = currV\n",
    "            else:\n",
    "                Y = np.vstack([Y, currV])\n",
    "            \n",
    "    print(X.shape)    \n",
    "    print(Y.shape)    \n",
    "    end = time.time()\n",
    "    print(\"total time -> \", end -start)\n",
    "\n",
    "\n",
    "\n"
   ]
  },
  {
   "cell_type": "code",
   "execution_count": 7,
   "metadata": {},
   "outputs": [],
   "source": [
    "def createDNNModel():\n",
    "    global model     \n",
    "    model = tf.keras.models.Sequential()\n",
    "    model.add(tf.keras.layers.Flatten())\n",
    "    model.add(tf.keras.layers.Dense(128, activation=tf.nn.relu))\n",
    "    model.add(tf.keras.layers.Dense(128, activation=tf.nn.relu))\n",
    "    model.add(tf.keras.layers.Dense(3, activation=tf.nn.softmax))\n",
    "\n",
    "    model.compile(optimizer='adam',\n",
    "                 loss='sparse_categorical_crossentropy',\n",
    "                 metrics=['accuracy'])\n",
    "    \n",
    "\n",
    "    \n",
    "\n",
    "    "
   ]
  },
  {
   "cell_type": "code",
   "execution_count": 8,
   "metadata": {},
   "outputs": [
    {
     "name": "stdout",
     "output_type": "stream",
     "text": [
      "Processing started \n",
      "Processing started for output \n",
      "(26777, 200)\n",
      "(26777, 1)\n",
      "('total time -> ', 213.44429397583008)\n"
     ]
    }
   ],
   "source": [
    "getNumpyArray()\n",
    "# Commnet this line for your part\n",
    "#createDNNModel()"
   ]
  },
  {
   "cell_type": "code",
   "execution_count": 9,
   "metadata": {},
   "outputs": [],
   "source": [
    "# Add your code here \n"
   ]
  },
  {
   "cell_type": "markdown",
   "metadata": {},
   "source": [
    "# SVM"
   ]
  },
  {
   "cell_type": "code",
   "execution_count": 10,
   "metadata": {},
   "outputs": [],
   "source": [
    "from sklearn.model_selection import train_test_split\n",
    "from sklearn import svm\n",
    "from sklearn import metrics\n",
    "from sklearn.metrics import accuracy_score\n",
    "x_train, x_test, y_train, y_test = train_test_split(X, Y,test_size=0.30, random_state=1)"
   ]
  },
  {
   "cell_type": "code",
   "execution_count": 11,
   "metadata": {},
   "outputs": [
    {
     "data": {
      "text/plain": [
       "SVC(C=100, cache_size=200, class_weight=None, coef0=0.0,\n",
       "  decision_function_shape='ovr', degree=3, gamma=0.001, kernel='linear',\n",
       "  max_iter=-1, probability=False, random_state=None, shrinking=True,\n",
       "  tol=0.001, verbose=False)"
      ]
     },
     "execution_count": 11,
     "metadata": {},
     "output_type": "execute_result"
    }
   ],
   "source": [
    "clf = svm.SVC(gamma=0.001,C=100, kernel='linear')\n",
    "clf.fit(x_train,np.ravel(y_train,order='C'))\n"
   ]
  },
  {
   "cell_type": "code",
   "execution_count": 12,
   "metadata": {},
   "outputs": [
    {
     "name": "stdout",
     "output_type": "stream",
     "text": [
      "0.9065222803086881\n",
      "0.9065222803086881\n"
     ]
    }
   ],
   "source": [
    "y_predict = clf.predict(x_test)\n",
    "print metrics.accuracy_score(y_test,y_predict)\n",
    "\n",
    "print(accuracy_score(y_test,y_predict))"
   ]
  },
  {
   "cell_type": "code",
   "execution_count": null,
   "metadata": {},
   "outputs": [],
   "source": []
  },
  {
   "cell_type": "code",
   "execution_count": null,
   "metadata": {},
   "outputs": [],
   "source": []
  },
  {
   "cell_type": "markdown",
   "metadata": {},
   "source": [
    "# Unnathi"
   ]
  },
  {
   "cell_type": "code",
   "execution_count": 13,
   "metadata": {},
   "outputs": [
    {
     "name": "stdout",
     "output_type": "stream",
     "text": [
      "Processing started \n",
      "Processing started for output \n",
      "(26777, 200)\n",
      "(26777, 1)\n",
      "('total time -> ', 546.2691698074341)\n",
      "0.933159073935773\n"
     ]
    }
   ],
   "source": [
    "getNumpyArray()\n",
    "\n",
    "from sklearn.model_selection import train_test_split\n",
    "from sklearn import svm\n",
    "from sklearn.metrics import accuracy_score\n",
    "\n",
    "x_train, x_test, y_train, y_test = train_test_split(X, Y, test_size=0.30, random_state=42)\n",
    "\n",
    "\n",
    "clf = svm.SVC(gamma=0.001,C=100, kernel='linear')\n",
    "clf.fit(x_train,np.ravel(y_train,order='C'))\n",
    "y_predict = clf.predict(x_test)\n",
    "print(accuracy_score(y_test,y_predict))\n"
   ]
  },
  {
   "cell_type": "code",
   "execution_count": null,
   "metadata": {},
   "outputs": [],
   "source": []
  },
  {
   "cell_type": "code",
   "execution_count": null,
   "metadata": {},
   "outputs": [],
   "source": []
  },
  {
   "cell_type": "code",
   "execution_count": null,
   "metadata": {},
   "outputs": [],
   "source": []
  },
  {
   "cell_type": "code",
   "execution_count": 14,
   "metadata": {},
   "outputs": [],
   "source": [
    "def executeModel(eph):\n",
    "    start = time.time()\n",
    "    model.compile(optimizer='adam',\n",
    "                 loss='sparse_categorical_crossentropy',\n",
    "                 metrics=['accuracy'])\n",
    "\n",
    "    model.fit(x_train, y_train, epochs=eph)\n",
    "    end = time.time()\n",
    "    print(\"Total Time -> \", (end - start))\n",
    "    \n",
    "    val_loss, val_acc = model.evaluate(x_test, y_test)\n",
    "    print(val_loss)\n",
    "    print(val_acc)\n",
    "\n"
   ]
  },
  {
   "cell_type": "code",
   "execution_count": 15,
   "metadata": {},
   "outputs": [
    {
     "ename": "AttributeError",
     "evalue": "'NoneType' object has no attribute 'compile'",
     "output_type": "error",
     "traceback": [
      "\u001b[0;31m---------------------------------------------------------------------------\u001b[0m",
      "\u001b[0;31mAttributeError\u001b[0m                            Traceback (most recent call last)",
      "\u001b[0;32m<ipython-input-15-b05ec3440a56>\u001b[0m in \u001b[0;36m<module>\u001b[0;34m()\u001b[0m\n\u001b[1;32m      1\u001b[0m \u001b[0mstart\u001b[0m \u001b[0;34m=\u001b[0m \u001b[0mtime\u001b[0m\u001b[0;34m.\u001b[0m\u001b[0mtime\u001b[0m\u001b[0;34m(\u001b[0m\u001b[0;34m)\u001b[0m\u001b[0;34m\u001b[0m\u001b[0m\n\u001b[0;32m----> 2\u001b[0;31m \u001b[0mexecuteModel\u001b[0m\u001b[0;34m(\u001b[0m\u001b[0;36m50\u001b[0m\u001b[0;34m)\u001b[0m\u001b[0;34m\u001b[0m\u001b[0m\n\u001b[0m\u001b[1;32m      3\u001b[0m \u001b[0mend\u001b[0m \u001b[0;34m=\u001b[0m \u001b[0mtime\u001b[0m\u001b[0;34m.\u001b[0m\u001b[0mtime\u001b[0m\u001b[0;34m(\u001b[0m\u001b[0;34m)\u001b[0m\u001b[0;34m\u001b[0m\u001b[0m\n\u001b[1;32m      4\u001b[0m \u001b[0;32mprint\u001b[0m\u001b[0;34m(\u001b[0m\u001b[0;34m\"Total Time -->\"\u001b[0m\u001b[0;34m,\u001b[0m \u001b[0mend\u001b[0m \u001b[0;34m-\u001b[0m \u001b[0mstart\u001b[0m\u001b[0;34m)\u001b[0m\u001b[0;34m\u001b[0m\u001b[0m\n",
      "\u001b[0;32m<ipython-input-14-f226ab8d604a>\u001b[0m in \u001b[0;36mexecuteModel\u001b[0;34m(eph)\u001b[0m\n\u001b[1;32m      1\u001b[0m \u001b[0;32mdef\u001b[0m \u001b[0mexecuteModel\u001b[0m\u001b[0;34m(\u001b[0m\u001b[0meph\u001b[0m\u001b[0;34m)\u001b[0m\u001b[0;34m:\u001b[0m\u001b[0;34m\u001b[0m\u001b[0m\n\u001b[1;32m      2\u001b[0m     \u001b[0mstart\u001b[0m \u001b[0;34m=\u001b[0m \u001b[0mtime\u001b[0m\u001b[0;34m.\u001b[0m\u001b[0mtime\u001b[0m\u001b[0;34m(\u001b[0m\u001b[0;34m)\u001b[0m\u001b[0;34m\u001b[0m\u001b[0m\n\u001b[0;32m----> 3\u001b[0;31m     model.compile(optimizer='adam',\n\u001b[0m\u001b[1;32m      4\u001b[0m                  \u001b[0mloss\u001b[0m\u001b[0;34m=\u001b[0m\u001b[0;34m'sparse_categorical_crossentropy'\u001b[0m\u001b[0;34m,\u001b[0m\u001b[0;34m\u001b[0m\u001b[0m\n\u001b[1;32m      5\u001b[0m                  metrics=['accuracy'])\n",
      "\u001b[0;31mAttributeError\u001b[0m: 'NoneType' object has no attribute 'compile'"
     ]
    }
   ],
   "source": [
    "start = time.time()\n",
    "executeModel(50)\n",
    "end = time.time()\n",
    "print(\"Total Time -->\", end - start)"
   ]
  },
  {
   "cell_type": "code",
   "execution_count": null,
   "metadata": {},
   "outputs": [],
   "source": [
    "score, acc = model.evaluate(x_test, y_test)\n",
    "print('Test score:', score)\n",
    "print('Test accuracy:', acc)"
   ]
  },
  {
   "cell_type": "code",
   "execution_count": null,
   "metadata": {},
   "outputs": [],
   "source": [
    "def evaluateWordToVec():\n",
    "    Word2Vec_model = Word2Vec.load(modelfileName)\n",
    "    print(\"Loaded successfully\")\n",
    "    #print(model.wv['FEB0FF999E500000'])\n",
    "    print(len(Word2Vec_model.wv['FEB0FF999E500000']))\n",
    "\n",
    "    #print(model.wv['000200000000002A'])\n",
    "    print(len(Word2Vec_model.wv['000200000000002A']))\n",
    "    \n",
    "    #print(model.wv['FEB0FF999E500000'] + model.wv['000200000000002A'])\n",
    "    \n",
    "    v = Word2Vec_model.wv['FEB0FF999E500000'] + Word2Vec_model.wv['000200000000002A']\n",
    "    print(type(v))\n",
    "    #print(v/2)\n",
    "evaluateWordToVec()"
   ]
  },
  {
   "cell_type": "code",
   "execution_count": null,
   "metadata": {},
   "outputs": [],
   "source": []
  }
 ],
 "metadata": {
  "kernelspec": {
   "display_name": "Python 2",
   "language": "python",
   "name": "python2"
  },
  "language_info": {
   "codemirror_mode": {
    "name": "ipython",
    "version": 2
   },
   "file_extension": ".py",
   "mimetype": "text/x-python",
   "name": "python",
   "nbconvert_exporter": "python",
   "pygments_lexer": "ipython2",
   "version": "2.7.15"
  }
 },
 "nbformat": 4,
 "nbformat_minor": 2
}
