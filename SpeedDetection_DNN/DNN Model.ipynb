{
 "cells": [
  {
   "cell_type": "code",
   "execution_count": null,
   "metadata": {
    "collapsed": false
   },
   "outputs": [],
   "source": [
    "from gensim.test.utils import common_texts, get_tmpfile\n",
    "from gensim.models import Word2Vec\n",
    "\n",
    "import time\n",
    "import os\n",
    "import numpy as np\n",
    "\n",
    "import tensorflow as tf\n",
    "\n",
    "modelfileName = \"CS286-Word2Vec.model\"\n",
    "\n",
    "dirNameInput = os.getcwd() + '/Word2VecData_Input'\n",
    "dirNameOutput = os.getcwd() + '/Word2VecData_Output'\n",
    "\n",
    "Word2Vec_model = None\n",
    "\n",
    "X = None\n",
    "Y = None\n",
    "x_train = None\n",
    "y_train = None\n",
    "x_test = None\n",
    "y_test = None\n",
    "\n",
    "model = None\n"
   ]
  },
  {
   "cell_type": "code",
   "execution_count": null,
   "metadata": {
    "collapsed": true
   },
   "outputs": [],
   "source": [
    "def createDataFiles():\n",
    "    import time\n",
    "    start = time.time()\n",
    "    stride = 2\n",
    "    messageSize = 5\n",
    "    \n",
    "    # For Simulated data\n",
    "    fileInput = open(dirNameInput + \"/Word2VecDataSimulated.txt\", \"w\")\n",
    "    fileOutput = open(dirNameOutput + \"/Word2VecDataSimulated.txt\", \"w\")\n",
    "    fileNamesSimulated = ['Speed20_40.txt', 'Speed40_60.txt']\n",
    "    arrSimulated = [1, 2]\n",
    "\n",
    "    for i in range(len(fileNamesSimulated)):\n",
    "        with open(fileNamesSimulated[i]) as f:\n",
    "            content = f.readlines()\n",
    "\n",
    "        # Remove the extra spaces from the sentences\n",
    "        content = [x.strip() for x in content]\n",
    "\n",
    "        cntCntr = 0\n",
    "        while cntCntr < len(content):\n",
    "            iteration = 0\n",
    "            currMessagePackets = \"\"\n",
    "\n",
    "            while iteration < messageSize and cntCntr < len(content):\n",
    "                # Remove the noise from the files\n",
    "                DATA = content[cntCntr][15:38]\n",
    "\n",
    "                # this is the whole message\n",
    "                parts = DATA.split()\n",
    "\n",
    "                tempo = \"\"\n",
    "                for j in range(8):\n",
    "                    if j >= len(parts) or parts[j] == \"  \":\n",
    "                        tempo += \"00\"\n",
    "                    else:\n",
    "                        tempo += parts[j]\n",
    "\n",
    "                currMessagePackets += str(tempo) + \" \"\n",
    "                cntCntr += 1\n",
    "                iteration += 1\n",
    "\n",
    "            if cntCntr < len(content):\n",
    "                cntCntr -= stride\n",
    "            else:\n",
    "                break\n",
    "            fileInput.write(currMessagePackets + \"\\n\")\n",
    "            fileOutput.write(str(arrSimulated[i]) + \"\\n\")\n",
    "\n",
    "    fileInput.close()\n",
    "    fileOutput.close()\n",
    "    # To only work with actual data end commenting till here\n",
    "    end = time.time()\n",
    "\n",
    "    print(\"Awesome !!! File processing done !!!\")\n",
    "    print(\"Total Time for file processing ---> \", end - start)\n"
   ]
  },
  {
   "cell_type": "code",
   "execution_count": null,
   "metadata": {
    "collapsed": true
   },
   "outputs": [],
   "source": [
    "class IteratingClass:\n",
    "    def __init__(self, dirName):\n",
    "        self.dirName = dirName\n",
    "\n",
    "    def __iter__(self):\n",
    "        for fName in os.listdir(self.dirName):\n",
    "            for line in open(os.path.join(self.dirName, fName)):\n",
    "                yield line.split()\n",
    "\n",
    "def createWord2VecModels():\n",
    "    start = time.time()\n",
    "    dataDirec = IteratingClass(dirNameInput)\n",
    "    model = Word2Vec(dataDirec, size=200, window=5, min_count=1, workers=8)\n",
    "    model.save(modelfileName)\n",
    "    end = time.time()\n",
    "    print(\"\\n\\nTraining Successful for Word2Vec Model!!!\")\n",
    "    print(\"Total Time for Word2Vec model -> \", (end - start))\n"
   ]
  },
  {
   "cell_type": "code",
   "execution_count": null,
   "metadata": {
    "collapsed": true
   },
   "outputs": [],
   "source": [
    "def train():\n",
    "    createDataFiles()\n",
    "    createWord2VecModels()"
   ]
  },
  {
   "cell_type": "code",
   "execution_count": null,
   "metadata": {
    "collapsed": false
   },
   "outputs": [],
   "source": [
    "train()"
   ]
  },
  {
   "cell_type": "code",
   "execution_count": null,
   "metadata": {
    "collapsed": true
   },
   "outputs": [],
   "source": [
    "\n",
    "# Convert the data into Numpy Arrays\n",
    "def getNumpyArray():\n",
    "    start = time.time()\n",
    "    global X\n",
    "    global Y\n",
    "    global dirNameInput\n",
    "    Word2Vec_model = Word2Vec.load(modelfileName)\n",
    "    X = None\n",
    "    Y = None\n",
    "    print(\"Processing started \")\n",
    "    result = []\n",
    "    for fName in os.listdir(dirNameInput):\n",
    "        for line in open(os.path.join(dirNameInput, fName)):\n",
    "            parts = line.split()\n",
    "            currV = Word2Vec_model.wv[parts[0]]\n",
    "            currV.setflags(write=1)\n",
    "            for i in range(1, len(parts)):\n",
    "                currV += Word2Vec_model.wv[parts[i]]\n",
    "            currV /= len(parts)\n",
    "            result.append(np.array(currV))\n",
    "    X = np.array(result)\n",
    "               \n",
    "    print(\"Processing started for output \")\n",
    "    result = []\n",
    "    for fName in os.listdir(dirNameOutput):\n",
    "        for line in open(os.path.join(dirNameOutput, fName)):\n",
    "            currV = int(line)\n",
    "            result.append(np.array(currV))\n",
    "\n",
    "    Y = np.array(result)        \n",
    "    \n",
    "    print(X.shape)    \n",
    "    print(Y.shape)    \n",
    "    end = time.time()\n",
    "    print(\"total time -> \", end -start)\n",
    "\n",
    "\n",
    "\n"
   ]
  },
  {
   "cell_type": "code",
   "execution_count": null,
   "metadata": {
    "collapsed": true
   },
   "outputs": [],
   "source": [
    "def createDNNModel():\n",
    "    global model     \n",
    "    model = tf.keras.models.Sequential()\n",
    "    model.add(tf.keras.layers.Flatten())\n",
    "    model.add(tf.keras.layers.Dense(256, activation=tf.nn.relu))\n",
    "    model.add(tf.keras.layers.Dense(256, activation=tf.nn.relu))\n",
    "    model.add(tf.keras.layers.Dense(3, activation=tf.nn.softmax))\n",
    "\n",
    "    model.compile(optimizer='adam',\n",
    "                 loss='sparse_categorical_crossentropy',\n",
    "                 metrics=['accuracy'])\n",
    "    \n",
    "\n",
    "    \n",
    "\n",
    "    "
   ]
  },
  {
   "cell_type": "code",
   "execution_count": null,
   "metadata": {
    "collapsed": false
   },
   "outputs": [],
   "source": [
    "getNumpyArray()\n",
    "# Commnet this line for your part\n",
    "createDNNModel()\n",
    "from sklearn.model_selection import train_test_split\n",
    "x_train, x_test, y_train, y_test = train_test_split(X, Y,test_size=0.30, random_state=1)\n"
   ]
  },
  {
   "cell_type": "code",
   "execution_count": null,
   "metadata": {
    "collapsed": true
   },
   "outputs": [],
   "source": [
    "def executeModel(eph):\n",
    "    start = time.time()\n",
    "    model.compile(optimizer='adam',\n",
    "                 loss='sparse_categorical_crossentropy',\n",
    "                 metrics=['accuracy'])\n",
    "\n",
    "    model.fit(x_train, y_train, epochs=eph)\n",
    "    end = time.time()\n",
    "    print(\"Total Time -> \", (end - start))\n",
    "    \n",
    "    val_loss, val_acc = model.evaluate(x_test, y_test)\n",
    "    print(val_loss)\n",
    "    print(val_acc)"
   ]
  },
  {
   "cell_type": "code",
   "execution_count": null,
   "metadata": {
    "collapsed": false
   },
   "outputs": [],
   "source": [
    "start = time.time()\n",
    "executeModel(50)\n",
    "end = time.time()\n",
    "print(\"Total Time -->\", end - start)"
   ]
  },
  {
   "cell_type": "code",
   "execution_count": null,
   "metadata": {
    "collapsed": true
   },
   "outputs": [],
   "source": [
    "def LSTMModel(eph):\n",
    "    model = tf.keras.models.Sequential()\n",
    "    model.add(tf.keras.layers.LSTM((1), batch_input_shape=(None, 200, 1), return_sequences=True))\n",
    "    #model.add(tf.keras.layers.LSTM(5 ,input_shape=(1,200)))\n",
    "    #model.add(tf.keras.layers.Dense(1, activation='sigmoid'))\n",
    "\n",
    "\n",
    "    print ('Compiling...')\n",
    "    #model.compile(loss='binary_crossentropy',optimizer='rmsprop',metrics=['accuracy'])\n",
    "    model.compile(loss='mean_absolute_error',optimizer='adam',metrics=['accuracy'])\n",
    "    #y_train.reshape(200,1)\n",
    "    model.fit(x_train, y_train, batch_size = 100 , epochs=eph, verbose = 1)\n",
    "    \n",
    "    end = time.time()\n",
    "    print(\"Total Time -> \", (end - start))\n",
    "    \n"
   ]
  },
  {
   "cell_type": "code",
   "execution_count": null,
   "metadata": {
    "collapsed": false
   },
   "outputs": [],
   "source": [
    "x_train, x_test, y_train, y_test = train_test_split(X, Y,test_size=0.30, random_state=1)\n",
    "print(x_train.shape)\n",
    "print(y_train.shape)\n",
    "x_train = x_train.reshape(837,200,1)\n",
    "y_train = y_train.reshape(837,1)\n",
    "LSTMModel(10)"
   ]
  },
  {
   "cell_type": "code",
   "execution_count": null,
   "metadata": {
    "collapsed": false
   },
   "outputs": [],
   "source": [
    "score, acc = model.evaluate(x_test, y_test)\n",
    "print('Test score:', score)\n",
    "print('Test accuracy:', acc)"
   ]
  },
  {
   "cell_type": "code",
   "execution_count": null,
   "metadata": {
    "collapsed": false
   },
   "outputs": [],
   "source": [
    "def evaluateWordToVec():\n",
    "    Word2Vec_model = Word2Vec.load(modelfileName)\n",
    "    print(\"Loaded successfully\")\n",
    "    #print(model.wv['FEB0FF999E500000'])\n",
    "    print(len(Word2Vec_model.wv['FEB0FF999E500000']))\n",
    "\n",
    "    #print(model.wv['000200000000002A'])\n",
    "    print(len(Word2Vec_model.wv['000200000000002A']))\n",
    "    \n",
    "    #print(model.wv['FEB0FF999E500000'] + model.wv['000200000000002A'])\n",
    "    \n",
    "    v = Word2Vec_model.wv['FEB0FF999E500000'] + Word2Vec_model.wv['000200000000002A']\n",
    "    print(type(v))\n",
    "    #print(v/2)\n",
    "evaluateWordToVec()"
   ]
  },
  {
   "cell_type": "code",
   "execution_count": null,
   "metadata": {
    "collapsed": true
   },
   "outputs": [],
   "source": []
  }
 ],
 "metadata": {
  "kernelspec": {
   "display_name": "Python [default]",
   "language": "python",
   "name": "python3"
  },
  "language_info": {
   "codemirror_mode": {
    "name": "ipython",
    "version": 3
   },
   "file_extension": ".py",
   "mimetype": "text/x-python",
   "name": "python",
   "nbconvert_exporter": "python",
   "pygments_lexer": "ipython3",
   "version": "3.6.3"
  }
 },
 "nbformat": 4,
 "nbformat_minor": 2
}
