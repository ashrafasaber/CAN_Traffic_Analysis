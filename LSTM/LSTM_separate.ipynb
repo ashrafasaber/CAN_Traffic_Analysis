{
 "cells": [
  {
   "cell_type": "code",
   "execution_count": 9,
   "metadata": {},
   "outputs": [],
   "source": [
    "from gensim.test.utils import common_texts, get_tmpfile\n",
    "from gensim.models import Word2Vec\n",
    "\n",
    "import time\n",
    "import os\n",
    "import numpy as np\n",
    "\n",
    "import tensorflow as tf\n",
    "\n",
    "modelfileName = \"CS286-Word2Vec.model\"\n",
    "dirNameInput = os.getcwd() + '/Word2VecData_Input'\n",
    "dirNameOutput = os.getcwd() + '/Word2VecData_Output'\n",
    "\n",
    "from sklearn.model_selection import train_test_split\n",
    "\n",
    "Word2Vec_model = None\n",
    "\n",
    "X = None\n",
    "Y = None\n",
    "X_Actual = None\n",
    "Y_Actual = None\n",
    "X_Simulated = None\n",
    "Y_Simulated = None\n",
    "x_train = None\n",
    "y_train = None\n",
    "x_test = None\n",
    "y_test = None\n",
    "\n",
    "model = None\n",
    "result = []\n"
   ]
  },
  {
   "cell_type": "code",
   "execution_count": 10,
   "metadata": {},
   "outputs": [],
   "source": [
    "def createDataFiles():\n",
    "    import time\n",
    "    start = time.time()\n",
    "    stride = 2\n",
    "    \n",
    "    fileNamesActual = ['autopark.dat', 'drive.dat', 'idle.dat']\n",
    "    \n",
    "    # To only work with simulated data start commenting from here\n",
    "    fileInput = open(\"Word2VecData_Input\\Word2VecDataActual.txt\", \"w\")\n",
    "    fileOutput = open(\"Word2VecData_Output\\Word2VecDataActual.txt\", \"w\")\n",
    "    \n",
    "\n",
    "    for i in range(len(fileNamesActual)):\n",
    "        with open(fileNamesActual[i]) as f:\n",
    "            content = f.readlines()\n",
    "\n",
    "        # Remove the extra spaces from the sentences\n",
    "        content = [x.strip() for x in content]\n",
    "        value = int(0.8 * len(content))\n",
    "        \n",
    "        value = len(content)\n",
    "\n",
    "        cntCntr = 0\n",
    "        while cntCntr < value:\n",
    "            iteration = 0\n",
    "            currMessagePackets = \"\"\n",
    "\n",
    "            while iteration < 5 and cntCntr < value:\n",
    "                parts = content[cntCntr].split(\",\")\n",
    "\n",
    "                # this is the whole message\n",
    "                DATA = parts[3].split(\":\")[1].replace(\" \", \"\")\n",
    "\n",
    "                currMessagePackets += str(DATA) + \" \"\n",
    "\n",
    "                cntCntr += 1\n",
    "                iteration += 1\n",
    "\n",
    "            if cntCntr < value:\n",
    "                cntCntr -= stride\n",
    "            else:\n",
    "                break\n",
    "            fileInput.write(currMessagePackets + \"\\n\")\n",
    "            fileOutput.write(str(i) + \"\\n\")\n",
    "    fileInput.close()\n",
    "    fileOutput.close()\n",
    "    # To only work with Simulated data end commenting till here\n",
    "\n",
    "    # To only work with actual data start commenting from here\n",
    "    # For Simulated data\n",
    "    fileInput = open(\"Word2VecData_Input\\Word2VecDataSimulated.txt\", \"w\")\n",
    "    fileOutput = open(\"Word2VecData_Output\\Word2VecDataSimulated.txt\", \"w\")\n",
    "    fileNamesSimulated = ['New_DRIVE_Data.txt', 'New_IDLE_Data.txt', 'DRIVE.rtf', 'IDLE.rtf']\n",
    "    arrSimulated = [1, 2, 1, 2]\n",
    "\n",
    "    for i in range(len(fileNamesSimulated)):\n",
    "        with open(fileNamesSimulated[i]) as f:\n",
    "            content = f.readlines()\n",
    "\n",
    "        # Remove the extra spaces from the sentences\n",
    "        content = [x.strip() for x in content]\n",
    "\n",
    "        cntCntr = 0\n",
    "        while cntCntr < len(content):\n",
    "            iteration = 0\n",
    "            currMessagePackets = \"\"\n",
    "\n",
    "            while iteration < 5 and cntCntr < len(content):\n",
    "                # Remove the noise from the files\n",
    "                DATA = content[cntCntr][15:38]\n",
    "\n",
    "                # this is the whole message\n",
    "                parts = DATA.split()\n",
    "\n",
    "                tempo = \"\"\n",
    "                for j in range(8):\n",
    "                    if j >= len(parts) or parts[j] == \"  \":\n",
    "                        tempo += \"00\"\n",
    "                    else:\n",
    "                        tempo += parts[j]\n",
    "\n",
    "                currMessagePackets += str(tempo) + \" \"\n",
    "                cntCntr += 1\n",
    "                iteration += 1\n",
    "\n",
    "            if cntCntr < len(content):\n",
    "                cntCntr -= stride\n",
    "            else:\n",
    "                break\n",
    "            fileInput.write(currMessagePackets + \"\\n\")\n",
    "            fileOutput.write(str(arrSimulated[i]) + \"\\n\")\n",
    "\n",
    "    fileInput.close()\n",
    "    # To only work with actual data end commenting till here\n",
    "    end = time.time()\n",
    "\n",
    "    print(\"Awesome !!! File processing done !!!\")\n",
    "    print(\"Total Time for file processing ---> \", end - start)"
   ]
  },
  {
   "cell_type": "code",
   "execution_count": 11,
   "metadata": {},
   "outputs": [],
   "source": [
    "class IteratingClass:\n",
    "    def __init__(self, dirName):\n",
    "        self.dirName = dirName\n",
    "\n",
    "    def __iter__(self):\n",
    "        for fName in os.listdir(self.dirName):\n",
    "            for line in open(os.path.join(self.dirName, fName)):\n",
    "                yield line.split()\n",
    "\n",
    "def createWord2VecModels():\n",
    "    start = time.time()\n",
    "    dataDirec = IteratingClass(dirNameInput)\n",
    "    model = Word2Vec(dataDirec, size=200, window=5, min_count=1, workers=8)\n",
    "    model.save(modelfileName)\n",
    "    end = time.time()\n",
    "    print(\"\\n\\nTraining Successful for Word2Vec Model!!!\")\n",
    "    print(\"Total Time for Word2Vec model -> \", (end - start))\n"
   ]
  },
  {
   "cell_type": "code",
   "execution_count": 12,
   "metadata": {},
   "outputs": [],
   "source": [
    "def train():\n",
    "    createDataFiles()\n",
    "    createWord2VecModels()\n",
    "\n"
   ]
  },
  {
   "cell_type": "code",
   "execution_count": 13,
   "metadata": {},
   "outputs": [
    {
     "name": "stdout",
     "output_type": "stream",
     "text": [
      "Awesome !!! File processing done !!!\n",
      "Total Time for file processing --->  1.2860157489776611\n",
      "\n",
      "\n",
      "Training Successful for Word2Vec Model!!!\n",
      "Total Time for Word2Vec model ->  2.465160608291626\n"
     ]
    }
   ],
   "source": [
    "train()"
   ]
  },
  {
   "cell_type": "code",
   "execution_count": 16,
   "metadata": {},
   "outputs": [],
   "source": [
    "# Convert the data into Numpy Arrays\n",
    "start = time.time()\n",
    "Word2Vec_model = Word2Vec.load(modelfileName)\n",
    "x_train = None\n",
    "def getNumpyArray():\n",
    "    global X\n",
    "    global Y\n",
    "    global X_Actual\n",
    "    global Y_Actual\n",
    "    global X_Simulated\n",
    "    global Y_Simulated\n",
    "    global dirNameInput\n",
    "    X = None\n",
    "    Y = None\n",
    "    result = []\n",
    "    for fName in os.listdir(dirNameInput):\n",
    "        for line in open(os.path.join(dirNameInput, fName)):\n",
    "            parts = line.split()\n",
    "            for i in range(0, len(parts)):\n",
    "                result.append(np.array(Word2Vec_model.wv[parts[i]]))\n",
    "        if \"Actual\" in fName: \n",
    "            X_Actual = np.array(result)\n",
    "            result = []\n",
    "        else:\n",
    "            X_Simulated = np.array(result)\n",
    "            result = []\n",
    "    \n",
    "    X = np.concatenate((X_Actual, X_Simulated), axis=0)\n",
    "    #X = np.array(result)\n",
    "                \n",
    "\n",
    "    result = []\n",
    "    for fName in os.listdir(dirNameOutput):\n",
    "        for line in open(os.path.join(dirNameOutput, fName)):\n",
    "            currV = int(line)\n",
    "            for i in range(0,5):\n",
    "                result.append(currV)\n",
    "        if \"Actual\" in fName:\n",
    "            Y_Actual = np.array(result)\n",
    "            result = []\n",
    "        else:\n",
    "            Y_Simulated = np.array(result)\n",
    "            result = []\n",
    "                \n",
    "    Y = np.concatenate((Y_Actual, Y_Simulated), axis=0)\n",
    "    #Y = np.array(result)\n",
    "    print(X_Actual.shape)\n",
    "    print(Y_Actual.shape)\n",
    "    print(X_Simulated.shape)\n",
    "    print(Y_Simulated.shape)\n",
    "    print(X.shape)    \n",
    "    print(Y.shape)    \n",
    "    end = time.time()\n",
    "    print(\"total time -> \", end -start)\n"
   ]
  },
  {
   "cell_type": "markdown",
   "metadata": {},
   "source": [
    "#    LSTM"
   ]
  },
  {
   "cell_type": "code",
   "execution_count": 17,
   "metadata": {},
   "outputs": [
    {
     "name": "stdout",
     "output_type": "stream",
     "text": [
      "(27940, 200)\n",
      "(27940,)\n",
      "(105945, 200)\n",
      "(105945,)\n",
      "(133885, 200)\n",
      "(133885,)\n",
      "total time ->  3.0042128562927246\n"
     ]
    }
   ],
   "source": [
    "getNumpyArray()"
   ]
  },
  {
   "cell_type": "code",
   "execution_count": 18,
   "metadata": {},
   "outputs": [],
   "source": [
    "#execute LSTM model\n",
    "\n",
    "def LSTMModel(epoch, X_array, Y_array):\n",
    "    start = time.time()   \n",
    "    \n",
    "    model = tf.keras.models.Sequential()\n",
    "    model.add(tf.keras.layers.LSTM(5, return_sequences=True,input_shape=(200,1)))\n",
    "    model.add(tf.keras.layers.LSTM(5 ,input_shape=(200,1)))\n",
    "    model.add(tf.keras.layers.Dense(1, activation='relu'))\n",
    "\n",
    "    model.compile(loss='binary_crossentropy',optimizer='rmsprop',metrics=['accuracy'])\n",
    "    \n",
    "    x_train, x_test, y_train, y_test = train_test_split(X_array, Y_array, test_size=0.30, random_state=42)\n",
    "    \n",
    "    model.fit(x_train, y_train, batch_size = 30 , epochs=epoch, verbose = 1)\n",
    "\n",
    "    val_loss, val_acc = model.evaluate(x_test, y_test)\n",
    "    print(\"Test score: \", val_loss)\n",
    "    print(\"Test accuracy: \", val_acc)\n",
    "\n",
    "    end = time.time()\n",
    "    print(\"Total Time -> \", (end - start))\n",
    "\n",
    "\n"
   ]
  },
  {
   "cell_type": "markdown",
   "metadata": {},
   "source": [
    "# For actual data"
   ]
  },
  {
   "cell_type": "code",
   "execution_count": 19,
   "metadata": {},
   "outputs": [
    {
     "name": "stdout",
     "output_type": "stream",
     "text": [
      "(10000, 200, 1)\n",
      "(10000,)\n",
      "Epoch 1/10\n",
      "7000/7000 [==============================] - 125s 18ms/step - loss: 0.2596 - acc: 0.9270\n",
      "Epoch 2/10\n",
      " 540/7000 [=>............................] - ETA: 2:09 - loss: 0.2715 - acc: 0.9222"
     ]
    },
    {
     "ename": "KeyboardInterrupt",
     "evalue": "",
     "output_type": "error",
     "traceback": [
      "\u001b[0;31m---------------------------------------------------------------------------\u001b[0m",
      "\u001b[0;31mKeyboardInterrupt\u001b[0m                         Traceback (most recent call last)",
      "\u001b[0;32m<ipython-input-19-d1f9cdf54cb0>\u001b[0m in \u001b[0;36m<module>\u001b[0;34m()\u001b[0m\n\u001b[1;32m      7\u001b[0m \u001b[0;34m\u001b[0m\u001b[0m\n\u001b[1;32m      8\u001b[0m \u001b[0;32mfrom\u001b[0m \u001b[0msklearn\u001b[0m\u001b[0;34m.\u001b[0m\u001b[0mmodel_selection\u001b[0m \u001b[0;32mimport\u001b[0m \u001b[0mtrain_test_split\u001b[0m\u001b[0;34m\u001b[0m\u001b[0m\n\u001b[0;32m----> 9\u001b[0;31m \u001b[0mLSTMModel\u001b[0m\u001b[0;34m(\u001b[0m\u001b[0;36m10\u001b[0m\u001b[0;34m,\u001b[0m \u001b[0mX_Actual\u001b[0m\u001b[0;34m,\u001b[0m \u001b[0mY_Actual\u001b[0m\u001b[0;34m)\u001b[0m\u001b[0;34m\u001b[0m\u001b[0m\n\u001b[0m",
      "\u001b[0;32m<ipython-input-18-9200934e44d6>\u001b[0m in \u001b[0;36mLSTMModel\u001b[0;34m(epoch, X_array, Y_array)\u001b[0m\n\u001b[1;32m     13\u001b[0m     \u001b[0mx_train\u001b[0m\u001b[0;34m,\u001b[0m \u001b[0mx_test\u001b[0m\u001b[0;34m,\u001b[0m \u001b[0my_train\u001b[0m\u001b[0;34m,\u001b[0m \u001b[0my_test\u001b[0m \u001b[0;34m=\u001b[0m \u001b[0mtrain_test_split\u001b[0m\u001b[0;34m(\u001b[0m\u001b[0mX_array\u001b[0m\u001b[0;34m,\u001b[0m \u001b[0mY_array\u001b[0m\u001b[0;34m,\u001b[0m \u001b[0mtest_size\u001b[0m\u001b[0;34m=\u001b[0m\u001b[0;36m0.30\u001b[0m\u001b[0;34m,\u001b[0m \u001b[0mrandom_state\u001b[0m\u001b[0;34m=\u001b[0m\u001b[0;36m42\u001b[0m\u001b[0;34m)\u001b[0m\u001b[0;34m\u001b[0m\u001b[0m\n\u001b[1;32m     14\u001b[0m \u001b[0;34m\u001b[0m\u001b[0m\n\u001b[0;32m---> 15\u001b[0;31m     \u001b[0mmodel\u001b[0m\u001b[0;34m.\u001b[0m\u001b[0mfit\u001b[0m\u001b[0;34m(\u001b[0m\u001b[0mx_train\u001b[0m\u001b[0;34m,\u001b[0m \u001b[0my_train\u001b[0m\u001b[0;34m,\u001b[0m \u001b[0mbatch_size\u001b[0m \u001b[0;34m=\u001b[0m \u001b[0;36m30\u001b[0m \u001b[0;34m,\u001b[0m \u001b[0mepochs\u001b[0m\u001b[0;34m=\u001b[0m\u001b[0mepoch\u001b[0m\u001b[0;34m,\u001b[0m \u001b[0mverbose\u001b[0m \u001b[0;34m=\u001b[0m \u001b[0;36m1\u001b[0m\u001b[0;34m)\u001b[0m\u001b[0;34m\u001b[0m\u001b[0m\n\u001b[0m\u001b[1;32m     16\u001b[0m \u001b[0;34m\u001b[0m\u001b[0m\n\u001b[1;32m     17\u001b[0m     \u001b[0mval_loss\u001b[0m\u001b[0;34m,\u001b[0m \u001b[0mval_acc\u001b[0m \u001b[0;34m=\u001b[0m \u001b[0mmodel\u001b[0m\u001b[0;34m.\u001b[0m\u001b[0mevaluate\u001b[0m\u001b[0;34m(\u001b[0m\u001b[0mx_test\u001b[0m\u001b[0;34m,\u001b[0m \u001b[0my_test\u001b[0m\u001b[0;34m)\u001b[0m\u001b[0;34m\u001b[0m\u001b[0m\n",
      "\u001b[0;32m~/anaconda3/envs/myvenv/lib/python3.5/site-packages/tensorflow/python/keras/engine/training.py\u001b[0m in \u001b[0;36mfit\u001b[0;34m(self, x, y, batch_size, epochs, verbose, callbacks, validation_split, validation_data, shuffle, class_weight, sample_weight, initial_epoch, steps_per_epoch, validation_steps, max_queue_size, workers, use_multiprocessing, **kwargs)\u001b[0m\n\u001b[1;32m   1637\u001b[0m           \u001b[0minitial_epoch\u001b[0m\u001b[0;34m=\u001b[0m\u001b[0minitial_epoch\u001b[0m\u001b[0;34m,\u001b[0m\u001b[0;34m\u001b[0m\u001b[0m\n\u001b[1;32m   1638\u001b[0m           \u001b[0msteps_per_epoch\u001b[0m\u001b[0;34m=\u001b[0m\u001b[0msteps_per_epoch\u001b[0m\u001b[0;34m,\u001b[0m\u001b[0;34m\u001b[0m\u001b[0m\n\u001b[0;32m-> 1639\u001b[0;31m           validation_steps=validation_steps)\n\u001b[0m\u001b[1;32m   1640\u001b[0m \u001b[0;34m\u001b[0m\u001b[0m\n\u001b[1;32m   1641\u001b[0m   def evaluate(self,\n",
      "\u001b[0;32m~/anaconda3/envs/myvenv/lib/python3.5/site-packages/tensorflow/python/keras/engine/training_arrays.py\u001b[0m in \u001b[0;36mfit_loop\u001b[0;34m(model, inputs, targets, sample_weights, batch_size, epochs, verbose, callbacks, val_inputs, val_targets, val_sample_weights, shuffle, initial_epoch, steps_per_epoch, validation_steps)\u001b[0m\n\u001b[1;32m    213\u001b[0m           \u001b[0mins_batch\u001b[0m\u001b[0;34m[\u001b[0m\u001b[0mi\u001b[0m\u001b[0;34m]\u001b[0m \u001b[0;34m=\u001b[0m \u001b[0mins_batch\u001b[0m\u001b[0;34m[\u001b[0m\u001b[0mi\u001b[0m\u001b[0;34m]\u001b[0m\u001b[0;34m.\u001b[0m\u001b[0mtoarray\u001b[0m\u001b[0;34m(\u001b[0m\u001b[0;34m)\u001b[0m\u001b[0;34m\u001b[0m\u001b[0m\n\u001b[1;32m    214\u001b[0m \u001b[0;34m\u001b[0m\u001b[0m\n\u001b[0;32m--> 215\u001b[0;31m         \u001b[0mouts\u001b[0m \u001b[0;34m=\u001b[0m \u001b[0mf\u001b[0m\u001b[0;34m(\u001b[0m\u001b[0mins_batch\u001b[0m\u001b[0;34m)\u001b[0m\u001b[0;34m\u001b[0m\u001b[0m\n\u001b[0m\u001b[1;32m    216\u001b[0m         \u001b[0;32mif\u001b[0m \u001b[0;32mnot\u001b[0m \u001b[0misinstance\u001b[0m\u001b[0;34m(\u001b[0m\u001b[0mouts\u001b[0m\u001b[0;34m,\u001b[0m \u001b[0mlist\u001b[0m\u001b[0;34m)\u001b[0m\u001b[0;34m:\u001b[0m\u001b[0;34m\u001b[0m\u001b[0m\n\u001b[1;32m    217\u001b[0m           \u001b[0mouts\u001b[0m \u001b[0;34m=\u001b[0m \u001b[0;34m[\u001b[0m\u001b[0mouts\u001b[0m\u001b[0;34m]\u001b[0m\u001b[0;34m\u001b[0m\u001b[0m\n",
      "\u001b[0;32m~/anaconda3/envs/myvenv/lib/python3.5/site-packages/tensorflow/python/keras/backend.py\u001b[0m in \u001b[0;36m__call__\u001b[0;34m(self, inputs)\u001b[0m\n\u001b[1;32m   2984\u001b[0m \u001b[0;34m\u001b[0m\u001b[0m\n\u001b[1;32m   2985\u001b[0m     fetched = self._callable_fn(*array_vals,\n\u001b[0;32m-> 2986\u001b[0;31m                                 run_metadata=self.run_metadata)\n\u001b[0m\u001b[1;32m   2987\u001b[0m     \u001b[0mself\u001b[0m\u001b[0;34m.\u001b[0m\u001b[0m_call_fetch_callbacks\u001b[0m\u001b[0;34m(\u001b[0m\u001b[0mfetched\u001b[0m\u001b[0;34m[\u001b[0m\u001b[0;34m-\u001b[0m\u001b[0mlen\u001b[0m\u001b[0;34m(\u001b[0m\u001b[0mself\u001b[0m\u001b[0;34m.\u001b[0m\u001b[0m_fetches\u001b[0m\u001b[0;34m)\u001b[0m\u001b[0;34m:\u001b[0m\u001b[0;34m]\u001b[0m\u001b[0;34m)\u001b[0m\u001b[0;34m\u001b[0m\u001b[0m\n\u001b[1;32m   2988\u001b[0m     \u001b[0;32mreturn\u001b[0m \u001b[0mfetched\u001b[0m\u001b[0;34m[\u001b[0m\u001b[0;34m:\u001b[0m\u001b[0mlen\u001b[0m\u001b[0;34m(\u001b[0m\u001b[0mself\u001b[0m\u001b[0;34m.\u001b[0m\u001b[0moutputs\u001b[0m\u001b[0;34m)\u001b[0m\u001b[0;34m]\u001b[0m\u001b[0;34m\u001b[0m\u001b[0m\n",
      "\u001b[0;32m~/anaconda3/envs/myvenv/lib/python3.5/site-packages/tensorflow/python/client/session.py\u001b[0m in \u001b[0;36m__call__\u001b[0;34m(self, *args, **kwargs)\u001b[0m\n\u001b[1;32m   1437\u001b[0m           ret = tf_session.TF_SessionRunCallable(\n\u001b[1;32m   1438\u001b[0m               \u001b[0mself\u001b[0m\u001b[0;34m.\u001b[0m\u001b[0m_session\u001b[0m\u001b[0;34m.\u001b[0m\u001b[0m_session\u001b[0m\u001b[0;34m,\u001b[0m \u001b[0mself\u001b[0m\u001b[0;34m.\u001b[0m\u001b[0m_handle\u001b[0m\u001b[0;34m,\u001b[0m \u001b[0margs\u001b[0m\u001b[0;34m,\u001b[0m \u001b[0mstatus\u001b[0m\u001b[0;34m,\u001b[0m\u001b[0;34m\u001b[0m\u001b[0m\n\u001b[0;32m-> 1439\u001b[0;31m               run_metadata_ptr)\n\u001b[0m\u001b[1;32m   1440\u001b[0m         \u001b[0;32mif\u001b[0m \u001b[0mrun_metadata\u001b[0m\u001b[0;34m:\u001b[0m\u001b[0;34m\u001b[0m\u001b[0m\n\u001b[1;32m   1441\u001b[0m           \u001b[0mproto_data\u001b[0m \u001b[0;34m=\u001b[0m \u001b[0mtf_session\u001b[0m\u001b[0;34m.\u001b[0m\u001b[0mTF_GetBuffer\u001b[0m\u001b[0;34m(\u001b[0m\u001b[0mrun_metadata_ptr\u001b[0m\u001b[0;34m)\u001b[0m\u001b[0;34m\u001b[0m\u001b[0m\n",
      "\u001b[0;31mKeyboardInterrupt\u001b[0m: "
     ]
    }
   ],
   "source": [
    "#split the data and train the model\n",
    "X_Actual = X_Actual[:10000]\n",
    "Y_Actual = Y_Actual[:10000]\n",
    "X_Actual = X_Actual.reshape(10000,200,1)\n",
    "print(X_Actual.shape)\n",
    "print(Y_Actual.shape)\n",
    "\n",
    "from sklearn.model_selection import train_test_split\n",
    "LSTMModel(10, X_Actual, Y_Actual)"
   ]
  },
  {
   "cell_type": "markdown",
   "metadata": {},
   "source": [
    "# For simulated data"
   ]
  },
  {
   "cell_type": "code",
   "execution_count": null,
   "metadata": {},
   "outputs": [],
   "source": [
    "#split the data and train the model\n",
    "X_Simulated = X_Simulated[:10000]\n",
    "Y_Simulated = Y_Simulated[:10000]\n",
    "X_Simulated = X_Simulated.reshape(10000,200,1)\n",
    "print(X_Simulated.shape)\n",
    "print(Y_Simulated.shape)\n",
    "\n",
    "from sklearn.model_selection import train_test_split\n",
    "LSTMModel(10, X_Simulated, Y_Simulated)"
   ]
  },
  {
   "cell_type": "markdown",
   "metadata": {},
   "source": [
    "# For actual + simulated data"
   ]
  },
  {
   "cell_type": "code",
   "execution_count": 47,
   "metadata": {},
   "outputs": [
    {
     "name": "stdout",
     "output_type": "stream",
     "text": [
      "(10000, 200, 1)\n",
      "(10000,)\n",
      "Epoch 1/10\n",
      "7000/7000 [==============================] - 122s 17ms/step - loss: 0.2763 - acc: 0.9270\n",
      "Epoch 2/10\n",
      "7000/7000 [==============================] - 114s 16ms/step - loss: 0.2405 - acc: 0.9270\n",
      "Epoch 3/10\n",
      "7000/7000 [==============================] - 108s 15ms/step - loss: 0.2355 - acc: 0.9270\n",
      "Epoch 4/10\n",
      " 750/7000 [==>...........................] - ETA: 1:35 - loss: 0.1875 - acc: 0.9373"
     ]
    },
    {
     "ename": "KeyboardInterrupt",
     "evalue": "",
     "output_type": "error",
     "traceback": [
      "\u001b[0;31m---------------------------------------------------------------------------\u001b[0m",
      "\u001b[0;31mKeyboardInterrupt\u001b[0m                         Traceback (most recent call last)",
      "\u001b[0;32m<ipython-input-47-32c4ed220a58>\u001b[0m in \u001b[0;36m<module>\u001b[0;34m()\u001b[0m\n\u001b[1;32m      7\u001b[0m \u001b[0;34m\u001b[0m\u001b[0m\n\u001b[1;32m      8\u001b[0m \u001b[0;32mfrom\u001b[0m \u001b[0msklearn\u001b[0m\u001b[0;34m.\u001b[0m\u001b[0mmodel_selection\u001b[0m \u001b[0;32mimport\u001b[0m \u001b[0mtrain_test_split\u001b[0m\u001b[0;34m\u001b[0m\u001b[0m\n\u001b[0;32m----> 9\u001b[0;31m \u001b[0mLSTMModel\u001b[0m\u001b[0;34m(\u001b[0m\u001b[0;36m10\u001b[0m\u001b[0;34m,\u001b[0m \u001b[0mX\u001b[0m\u001b[0;34m,\u001b[0m \u001b[0mY\u001b[0m\u001b[0;34m)\u001b[0m\u001b[0;34m\u001b[0m\u001b[0m\n\u001b[0m",
      "\u001b[0;32m<ipython-input-46-9200934e44d6>\u001b[0m in \u001b[0;36mLSTMModel\u001b[0;34m(epoch, X_array, Y_array)\u001b[0m\n\u001b[1;32m     13\u001b[0m     \u001b[0mx_train\u001b[0m\u001b[0;34m,\u001b[0m \u001b[0mx_test\u001b[0m\u001b[0;34m,\u001b[0m \u001b[0my_train\u001b[0m\u001b[0;34m,\u001b[0m \u001b[0my_test\u001b[0m \u001b[0;34m=\u001b[0m \u001b[0mtrain_test_split\u001b[0m\u001b[0;34m(\u001b[0m\u001b[0mX_array\u001b[0m\u001b[0;34m,\u001b[0m \u001b[0mY_array\u001b[0m\u001b[0;34m,\u001b[0m \u001b[0mtest_size\u001b[0m\u001b[0;34m=\u001b[0m\u001b[0;36m0.30\u001b[0m\u001b[0;34m,\u001b[0m \u001b[0mrandom_state\u001b[0m\u001b[0;34m=\u001b[0m\u001b[0;36m42\u001b[0m\u001b[0;34m)\u001b[0m\u001b[0;34m\u001b[0m\u001b[0m\n\u001b[1;32m     14\u001b[0m \u001b[0;34m\u001b[0m\u001b[0m\n\u001b[0;32m---> 15\u001b[0;31m     \u001b[0mmodel\u001b[0m\u001b[0;34m.\u001b[0m\u001b[0mfit\u001b[0m\u001b[0;34m(\u001b[0m\u001b[0mx_train\u001b[0m\u001b[0;34m,\u001b[0m \u001b[0my_train\u001b[0m\u001b[0;34m,\u001b[0m \u001b[0mbatch_size\u001b[0m \u001b[0;34m=\u001b[0m \u001b[0;36m30\u001b[0m \u001b[0;34m,\u001b[0m \u001b[0mepochs\u001b[0m\u001b[0;34m=\u001b[0m\u001b[0mepoch\u001b[0m\u001b[0;34m,\u001b[0m \u001b[0mverbose\u001b[0m \u001b[0;34m=\u001b[0m \u001b[0;36m1\u001b[0m\u001b[0;34m)\u001b[0m\u001b[0;34m\u001b[0m\u001b[0m\n\u001b[0m\u001b[1;32m     16\u001b[0m \u001b[0;34m\u001b[0m\u001b[0m\n\u001b[1;32m     17\u001b[0m     \u001b[0mval_loss\u001b[0m\u001b[0;34m,\u001b[0m \u001b[0mval_acc\u001b[0m \u001b[0;34m=\u001b[0m \u001b[0mmodel\u001b[0m\u001b[0;34m.\u001b[0m\u001b[0mevaluate\u001b[0m\u001b[0;34m(\u001b[0m\u001b[0mx_test\u001b[0m\u001b[0;34m,\u001b[0m \u001b[0my_test\u001b[0m\u001b[0;34m)\u001b[0m\u001b[0;34m\u001b[0m\u001b[0m\n",
      "\u001b[0;32m~/anaconda3/envs/myvenv/lib/python3.5/site-packages/tensorflow/python/keras/engine/training.py\u001b[0m in \u001b[0;36mfit\u001b[0;34m(self, x, y, batch_size, epochs, verbose, callbacks, validation_split, validation_data, shuffle, class_weight, sample_weight, initial_epoch, steps_per_epoch, validation_steps, max_queue_size, workers, use_multiprocessing, **kwargs)\u001b[0m\n\u001b[1;32m   1637\u001b[0m           \u001b[0minitial_epoch\u001b[0m\u001b[0;34m=\u001b[0m\u001b[0minitial_epoch\u001b[0m\u001b[0;34m,\u001b[0m\u001b[0;34m\u001b[0m\u001b[0m\n\u001b[1;32m   1638\u001b[0m           \u001b[0msteps_per_epoch\u001b[0m\u001b[0;34m=\u001b[0m\u001b[0msteps_per_epoch\u001b[0m\u001b[0;34m,\u001b[0m\u001b[0;34m\u001b[0m\u001b[0m\n\u001b[0;32m-> 1639\u001b[0;31m           validation_steps=validation_steps)\n\u001b[0m\u001b[1;32m   1640\u001b[0m \u001b[0;34m\u001b[0m\u001b[0m\n\u001b[1;32m   1641\u001b[0m   def evaluate(self,\n",
      "\u001b[0;32m~/anaconda3/envs/myvenv/lib/python3.5/site-packages/tensorflow/python/keras/engine/training_arrays.py\u001b[0m in \u001b[0;36mfit_loop\u001b[0;34m(model, inputs, targets, sample_weights, batch_size, epochs, verbose, callbacks, val_inputs, val_targets, val_sample_weights, shuffle, initial_epoch, steps_per_epoch, validation_steps)\u001b[0m\n\u001b[1;32m    213\u001b[0m           \u001b[0mins_batch\u001b[0m\u001b[0;34m[\u001b[0m\u001b[0mi\u001b[0m\u001b[0;34m]\u001b[0m \u001b[0;34m=\u001b[0m \u001b[0mins_batch\u001b[0m\u001b[0;34m[\u001b[0m\u001b[0mi\u001b[0m\u001b[0;34m]\u001b[0m\u001b[0;34m.\u001b[0m\u001b[0mtoarray\u001b[0m\u001b[0;34m(\u001b[0m\u001b[0;34m)\u001b[0m\u001b[0;34m\u001b[0m\u001b[0m\n\u001b[1;32m    214\u001b[0m \u001b[0;34m\u001b[0m\u001b[0m\n\u001b[0;32m--> 215\u001b[0;31m         \u001b[0mouts\u001b[0m \u001b[0;34m=\u001b[0m \u001b[0mf\u001b[0m\u001b[0;34m(\u001b[0m\u001b[0mins_batch\u001b[0m\u001b[0;34m)\u001b[0m\u001b[0;34m\u001b[0m\u001b[0m\n\u001b[0m\u001b[1;32m    216\u001b[0m         \u001b[0;32mif\u001b[0m \u001b[0;32mnot\u001b[0m \u001b[0misinstance\u001b[0m\u001b[0;34m(\u001b[0m\u001b[0mouts\u001b[0m\u001b[0;34m,\u001b[0m \u001b[0mlist\u001b[0m\u001b[0;34m)\u001b[0m\u001b[0;34m:\u001b[0m\u001b[0;34m\u001b[0m\u001b[0m\n\u001b[1;32m    217\u001b[0m           \u001b[0mouts\u001b[0m \u001b[0;34m=\u001b[0m \u001b[0;34m[\u001b[0m\u001b[0mouts\u001b[0m\u001b[0;34m]\u001b[0m\u001b[0;34m\u001b[0m\u001b[0m\n",
      "\u001b[0;32m~/anaconda3/envs/myvenv/lib/python3.5/site-packages/tensorflow/python/keras/backend.py\u001b[0m in \u001b[0;36m__call__\u001b[0;34m(self, inputs)\u001b[0m\n\u001b[1;32m   2984\u001b[0m \u001b[0;34m\u001b[0m\u001b[0m\n\u001b[1;32m   2985\u001b[0m     fetched = self._callable_fn(*array_vals,\n\u001b[0;32m-> 2986\u001b[0;31m                                 run_metadata=self.run_metadata)\n\u001b[0m\u001b[1;32m   2987\u001b[0m     \u001b[0mself\u001b[0m\u001b[0;34m.\u001b[0m\u001b[0m_call_fetch_callbacks\u001b[0m\u001b[0;34m(\u001b[0m\u001b[0mfetched\u001b[0m\u001b[0;34m[\u001b[0m\u001b[0;34m-\u001b[0m\u001b[0mlen\u001b[0m\u001b[0;34m(\u001b[0m\u001b[0mself\u001b[0m\u001b[0;34m.\u001b[0m\u001b[0m_fetches\u001b[0m\u001b[0;34m)\u001b[0m\u001b[0;34m:\u001b[0m\u001b[0;34m]\u001b[0m\u001b[0;34m)\u001b[0m\u001b[0;34m\u001b[0m\u001b[0m\n\u001b[1;32m   2988\u001b[0m     \u001b[0;32mreturn\u001b[0m \u001b[0mfetched\u001b[0m\u001b[0;34m[\u001b[0m\u001b[0;34m:\u001b[0m\u001b[0mlen\u001b[0m\u001b[0;34m(\u001b[0m\u001b[0mself\u001b[0m\u001b[0;34m.\u001b[0m\u001b[0moutputs\u001b[0m\u001b[0;34m)\u001b[0m\u001b[0;34m]\u001b[0m\u001b[0;34m\u001b[0m\u001b[0m\n",
      "\u001b[0;32m~/anaconda3/envs/myvenv/lib/python3.5/site-packages/tensorflow/python/client/session.py\u001b[0m in \u001b[0;36m__call__\u001b[0;34m(self, *args, **kwargs)\u001b[0m\n\u001b[1;32m   1437\u001b[0m           ret = tf_session.TF_SessionRunCallable(\n\u001b[1;32m   1438\u001b[0m               \u001b[0mself\u001b[0m\u001b[0;34m.\u001b[0m\u001b[0m_session\u001b[0m\u001b[0;34m.\u001b[0m\u001b[0m_session\u001b[0m\u001b[0;34m,\u001b[0m \u001b[0mself\u001b[0m\u001b[0;34m.\u001b[0m\u001b[0m_handle\u001b[0m\u001b[0;34m,\u001b[0m \u001b[0margs\u001b[0m\u001b[0;34m,\u001b[0m \u001b[0mstatus\u001b[0m\u001b[0;34m,\u001b[0m\u001b[0;34m\u001b[0m\u001b[0m\n\u001b[0;32m-> 1439\u001b[0;31m               run_metadata_ptr)\n\u001b[0m\u001b[1;32m   1440\u001b[0m         \u001b[0;32mif\u001b[0m \u001b[0mrun_metadata\u001b[0m\u001b[0;34m:\u001b[0m\u001b[0;34m\u001b[0m\u001b[0m\n\u001b[1;32m   1441\u001b[0m           \u001b[0mproto_data\u001b[0m \u001b[0;34m=\u001b[0m \u001b[0mtf_session\u001b[0m\u001b[0;34m.\u001b[0m\u001b[0mTF_GetBuffer\u001b[0m\u001b[0;34m(\u001b[0m\u001b[0mrun_metadata_ptr\u001b[0m\u001b[0;34m)\u001b[0m\u001b[0;34m\u001b[0m\u001b[0m\n",
      "\u001b[0;31mKeyboardInterrupt\u001b[0m: "
     ]
    }
   ],
   "source": [
    "#split the data and train the model\n",
    "X = X[:10000]\n",
    "Y = Y[:10000]\n",
    "X = X.reshape(10000,200,1)\n",
    "print(X.shape)\n",
    "print(Y.shape)\n",
    "\n",
    "from sklearn.model_selection import train_test_split\n",
    "LSTMModel(10, X, Y)"
   ]
  },
  {
   "cell_type": "code",
   "execution_count": null,
   "metadata": {},
   "outputs": [],
   "source": [
    "def evaluateWordToVec():\n",
    "    Word2Vec_model = Word2Vec.load(modelfileName)\n",
    "    print(\"Loaded successfully\")\n",
    "    #print(model.wv['FEB0FF999E500000'])\n",
    "    print(len(Word2Vec_model.wv['FEB0FF999E500000']))\n",
    "\n",
    "    #print(model.wv['000200000000002A'])\n",
    "    print(len(Word2Vec_model.wv['000200000000002A']))\n",
    "    \n",
    "    #print(model.wv['FEB0FF999E500000'] + model.wv['000200000000002A'])\n",
    "    \n",
    "    v = Word2Vec_model.wv['FEB0FF999E500000'] + Word2Vec_model.wv['000200000000002A']\n",
    "    print(type(v))\n",
    "    #print(v/2)\n",
    "evaluateWordToVec()"
   ]
  },
  {
   "cell_type": "code",
   "execution_count": null,
   "metadata": {
    "collapsed": true
   },
   "outputs": [],
   "source": []
  }
 ],
 "metadata": {
  "kernelspec": {
   "display_name": "Python 3",
   "language": "python",
   "name": "python3"
  },
  "language_info": {
   "codemirror_mode": {
    "name": "ipython",
    "version": 3
   },
   "file_extension": ".py",
   "mimetype": "text/x-python",
   "name": "python",
   "nbconvert_exporter": "python",
   "pygments_lexer": "ipython3",
   "version": "3.5.6"
  }
 },
 "nbformat": 4,
 "nbformat_minor": 2
}
